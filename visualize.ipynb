{
 "cells": [
  {
   "cell_type": "code",
   "execution_count": 1,
   "metadata": {
    "collapsed": true
   },
   "outputs": [
    {
     "name": "stderr",
     "output_type": "stream",
     "text": [
      "100%|██████████| 434/434 [00:49<00:00,  8.56it/s]\n",
      "  0%|          | 1/434 [00:00<00:55,  7.87it/s]"
     ]
    },
    {
     "name": "stdout",
     "output_type": "stream",
     "text": [
      "epoch: 0, loss: 0.05824245622355817, reward: 0.39400921658986177, true_positive: 0.0, acc: 0.1313364055299539\n"
     ]
    },
    {
     "name": "stderr",
     "output_type": "stream",
     "text": [
      "100%|██████████| 434/434 [01:07<00:00,  4.65it/s]\n",
      "  0%|          | 0/434 [00:00<?, ?it/s]"
     ]
    },
    {
     "name": "stdout",
     "output_type": "stream",
     "text": [
      "epoch: 1, loss: -0.1973287242760856, reward: 0.39400921658986177, true_positive: 1.0, acc: 0.11059907834101383\n"
     ]
    },
    {
     "name": "stderr",
     "output_type": "stream",
     "text": [
      "100%|██████████| 434/434 [01:31<00:00,  4.59it/s]\n",
      "  0%|          | 0/434 [00:00<?, ?it/s]"
     ]
    },
    {
     "name": "stdout",
     "output_type": "stream",
     "text": [
      "epoch: 2, loss: -0.16343997638621088, reward: 0.5046082949308756, true_positive: 1.0, acc: 0.14746543778801843\n"
     ]
    },
    {
     "name": "stderr",
     "output_type": "stream",
     "text": [
      "100%|██████████| 434/434 [01:36<00:00,  4.52it/s]\n",
      "  0%|          | 0/434 [00:00<?, ?it/s]"
     ]
    },
    {
     "name": "stdout",
     "output_type": "stream",
     "text": [
      "epoch: 3, loss: -0.2272577829281306, reward: 0.35944700460829493, true_positive: 0.0, acc: 0.11981566820276497\n"
     ]
    },
    {
     "name": "stderr",
     "output_type": "stream",
     "text": [
      "100%|██████████| 434/434 [01:36<00:00,  4.51it/s]\n",
      "  0%|          | 0/434 [00:00<?, ?it/s]"
     ]
    },
    {
     "name": "stdout",
     "output_type": "stream",
     "text": [
      "epoch: 4, loss: -0.044402638373012365, reward: 0.4078341013824885, true_positive: 0.0, acc: 0.1359447004608295\n"
     ]
    },
    {
     "name": "stderr",
     "output_type": "stream",
     "text": [
      "100%|██████████| 434/434 [01:36<00:00,  4.55it/s]\n",
      "  0%|          | 0/434 [00:00<?, ?it/s]"
     ]
    },
    {
     "name": "stdout",
     "output_type": "stream",
     "text": [
      "epoch: 5, loss: -0.17416428091339253, reward: 0.6082949308755761, true_positive: 2.0, acc: 0.16129032258064516\n"
     ]
    },
    {
     "name": "stderr",
     "output_type": "stream",
     "text": [
      "100%|██████████| 434/434 [01:37<00:00,  4.41it/s]\n",
      "  0%|          | 0/434 [00:00<?, ?it/s]"
     ]
    },
    {
     "name": "stdout",
     "output_type": "stream",
     "text": [
      "epoch: 6, loss: -0.2135460551158624, reward: 0.5668202764976958, true_positive: 1.0, acc: 0.16820276497695852\n"
     ]
    },
    {
     "name": "stderr",
     "output_type": "stream",
     "text": [
      "100%|██████████| 434/434 [01:38<00:00,  4.40it/s]\n",
      "  0%|          | 0/434 [00:00<?, ?it/s]"
     ]
    },
    {
     "name": "stdout",
     "output_type": "stream",
     "text": [
      "epoch: 7, loss: -0.3016702124874713, reward: 0.6290322580645161, true_positive: 1.0, acc: 0.1889400921658986\n"
     ]
    },
    {
     "name": "stderr",
     "output_type": "stream",
     "text": [
      "100%|██████████| 434/434 [01:38<00:00,  4.38it/s]\n",
      "  0%|          | 0/434 [00:00<?, ?it/s]"
     ]
    },
    {
     "name": "stdout",
     "output_type": "stream",
     "text": [
      "epoch: 8, loss: -0.32801670898696245, reward: 0.6912442396313364, true_positive: 2.0, acc: 0.1889400921658986\n"
     ]
    },
    {
     "name": "stderr",
     "output_type": "stream",
     "text": [
      "100%|██████████| 434/434 [01:38<00:00,  4.41it/s]\n",
      "  0%|          | 0/434 [00:00<?, ?it/s]"
     ]
    },
    {
     "name": "stdout",
     "output_type": "stream",
     "text": [
      "epoch: 9, loss: -0.48742252378831813, reward: 0.9193548387096774, true_positive: 5.0, acc: 0.20276497695852536\n"
     ]
    },
    {
     "name": "stderr",
     "output_type": "stream",
     "text": [
      "100%|██████████| 434/434 [01:38<00:00,  4.44it/s]\n",
      "  0%|          | 0/434 [00:00<?, ?it/s]"
     ]
    },
    {
     "name": "stdout",
     "output_type": "stream",
     "text": [
      "epoch: 10, loss: -0.5597239822011939, reward: 0.9815668202764977, true_positive: 5.0, acc: 0.22350230414746544\n"
     ]
    },
    {
     "name": "stderr",
     "output_type": "stream",
     "text": [
      "100%|██████████| 434/434 [01:38<00:00,  4.46it/s]\n",
      "  0%|          | 0/434 [00:00<?, ?it/s]"
     ]
    },
    {
     "name": "stdout",
     "output_type": "stream",
     "text": [
      "epoch: 11, loss: -0.7059624466684556, reward: 1.3064516129032258, true_positive: 8.0, acc: 0.2695852534562212\n"
     ]
    },
    {
     "name": "stderr",
     "output_type": "stream",
     "text": [
      "100%|██████████| 434/434 [01:38<00:00,  4.44it/s]\n",
      "  0%|          | 0/434 [00:00<?, ?it/s]"
     ]
    },
    {
     "name": "stdout",
     "output_type": "stream",
     "text": [
      "epoch: 12, loss: -0.865641239764435, reward: 1.3410138248847927, true_positive: 9.0, acc: 0.26036866359447003\n"
     ]
    },
    {
     "name": "stderr",
     "output_type": "stream",
     "text": [
      "100%|██████████| 434/434 [01:38<00:00,  4.35it/s]\n",
      "  0%|          | 0/434 [00:00<?, ?it/s]"
     ]
    },
    {
     "name": "stdout",
     "output_type": "stream",
     "text": [
      "epoch: 13, loss: -0.7748336076054052, reward: 1.4377880184331797, true_positive: 10.0, acc: 0.271889400921659\n"
     ]
    },
    {
     "name": "stderr",
     "output_type": "stream",
     "text": [
      "100%|██████████| 434/434 [01:38<00:00,  4.38it/s]\n",
      "  0%|          | 0/434 [00:00<?, ?it/s]"
     ]
    },
    {
     "name": "stdout",
     "output_type": "stream",
     "text": [
      "epoch: 14, loss: -0.8266785272583794, reward: 1.5, true_positive: 9.0, acc: 0.31336405529953915\n"
     ]
    },
    {
     "name": "stderr",
     "output_type": "stream",
     "text": [
      "100%|██████████| 434/434 [01:42<00:00,  4.31it/s]\n",
      "  0%|          | 0/434 [00:00<?, ?it/s]"
     ]
    },
    {
     "name": "stdout",
     "output_type": "stream",
     "text": [
      "epoch: 15, loss: -0.6711996359287113, reward: 1.5345622119815667, true_positive: 11.0, acc: 0.2834101382488479\n"
     ]
    },
    {
     "name": "stderr",
     "output_type": "stream",
     "text": [
      "100%|██████████| 434/434 [01:45<00:00,  3.98it/s]\n",
      "  0%|          | 0/434 [00:00<?, ?it/s]"
     ]
    },
    {
     "name": "stdout",
     "output_type": "stream",
     "text": [
      "epoch: 16, loss: -0.7589495946623145, reward: 1.4792626728110598, true_positive: 9.0, acc: 0.3064516129032258\n"
     ]
    },
    {
     "name": "stderr",
     "output_type": "stream",
     "text": [
      "100%|██████████| 434/434 [01:44<00:00,  3.91it/s]\n",
      "  0%|          | 0/434 [00:00<?, ?it/s]"
     ]
    },
    {
     "name": "stdout",
     "output_type": "stream",
     "text": [
      "epoch: 17, loss: -0.7516425506915674, reward: 1.444700460829493, true_positive: 9.0, acc: 0.29493087557603687\n"
     ]
    },
    {
     "name": "stderr",
     "output_type": "stream",
     "text": [
      "100%|██████████| 434/434 [01:41<00:00,  4.39it/s]\n",
      "  0%|          | 0/434 [00:00<?, ?it/s]"
     ]
    },
    {
     "name": "stdout",
     "output_type": "stream",
     "text": [
      "epoch: 18, loss: -0.6146871195161878, reward: 1.5138248847926268, true_positive: 9.0, acc: 0.31797235023041476\n"
     ]
    },
    {
     "name": "stderr",
     "output_type": "stream",
     "text": [
      " 49%|████▉     | 212/434 [00:49<00:53,  4.17it/s]"
     ]
    },
    {
     "ename": "KeyboardInterrupt",
     "evalue": "",
     "output_type": "error",
     "traceback": [
      "\u001b[0;31m---------------------------------------------------------------------------\u001b[0m",
      "\u001b[0;31mKeyboardInterrupt\u001b[0m                         Traceback (most recent call last)",
      "\u001b[0;32m<ipython-input-1-02b748e14e3d>\u001b[0m in \u001b[0;36m<module>\u001b[0;34m\u001b[0m\n\u001b[1;32m    108\u001b[0m \u001b[0;34m\u001b[0m\u001b[0m\n\u001b[1;32m    109\u001b[0m             \u001b[0;31m# update the policy net and record loss\u001b[0m\u001b[0;34m\u001b[0m\u001b[0;34m\u001b[0m\u001b[0;34m\u001b[0m\u001b[0m\n\u001b[0;32m--> 110\u001b[0;31m             \u001b[0mloss\u001b[0m\u001b[0;34m,\u001b[0m \u001b[0mreward\u001b[0m\u001b[0;34m,\u001b[0m \u001b[0mlast_reward\u001b[0m \u001b[0;34m=\u001b[0m \u001b[0magent\u001b[0m\u001b[0;34m.\u001b[0m\u001b[0mupdate_policy\u001b[0m\u001b[0;34m(\u001b[0m\u001b[0;34m)\u001b[0m\u001b[0;34m\u001b[0m\u001b[0;34m\u001b[0m\u001b[0m\n\u001b[0m\u001b[1;32m    111\u001b[0m             \u001b[0mlosses\u001b[0m\u001b[0;34m.\u001b[0m\u001b[0mappend\u001b[0m\u001b[0;34m(\u001b[0m\u001b[0mloss\u001b[0m\u001b[0;34m)\u001b[0m\u001b[0;34m\u001b[0m\u001b[0;34m\u001b[0m\u001b[0m\n\u001b[1;32m    112\u001b[0m             \u001b[0mrewards\u001b[0m\u001b[0;34m.\u001b[0m\u001b[0mappend\u001b[0m\u001b[0;34m(\u001b[0m\u001b[0mreward\u001b[0m\u001b[0;34m)\u001b[0m\u001b[0;34m\u001b[0m\u001b[0;34m\u001b[0m\u001b[0m\n",
      "\u001b[0;32m~/research/REI/agent.py\u001b[0m in \u001b[0;36mupdate_policy\u001b[0;34m(self)\u001b[0m\n\u001b[1;32m    103\u001b[0m         \u001b[0mself\u001b[0m\u001b[0;34m.\u001b[0m\u001b[0moptimizer\u001b[0m\u001b[0;34m.\u001b[0m\u001b[0mzero_grad\u001b[0m\u001b[0;34m(\u001b[0m\u001b[0;34m)\u001b[0m\u001b[0;34m\u001b[0m\u001b[0;34m\u001b[0m\u001b[0m\n\u001b[1;32m    104\u001b[0m         \u001b[0mloss\u001b[0m\u001b[0;34m.\u001b[0m\u001b[0mbackward\u001b[0m\u001b[0;34m(\u001b[0m\u001b[0;34m)\u001b[0m\u001b[0;34m\u001b[0m\u001b[0;34m\u001b[0m\u001b[0m\n\u001b[0;32m--> 105\u001b[0;31m         \u001b[0mself\u001b[0m\u001b[0;34m.\u001b[0m\u001b[0moptimizer\u001b[0m\u001b[0;34m.\u001b[0m\u001b[0mstep\u001b[0m\u001b[0;34m(\u001b[0m\u001b[0;34m)\u001b[0m\u001b[0;34m\u001b[0m\u001b[0;34m\u001b[0m\u001b[0m\n\u001b[0m\u001b[1;32m    106\u001b[0m \u001b[0;34m\u001b[0m\u001b[0m\n\u001b[1;32m    107\u001b[0m         \u001b[0;31m# reinitialize history\u001b[0m\u001b[0;34m\u001b[0m\u001b[0;34m\u001b[0m\u001b[0;34m\u001b[0m\u001b[0m\n",
      "\u001b[0;32m~/anaconda3/lib/python3.7/site-packages/torch/optim/adam.py\u001b[0m in \u001b[0;36mstep\u001b[0;34m(self, closure)\u001b[0m\n\u001b[1;32m    105\u001b[0m                 \u001b[0mstep_size\u001b[0m \u001b[0;34m=\u001b[0m \u001b[0mgroup\u001b[0m\u001b[0;34m[\u001b[0m\u001b[0;34m'lr'\u001b[0m\u001b[0;34m]\u001b[0m \u001b[0;34m*\u001b[0m \u001b[0mmath\u001b[0m\u001b[0;34m.\u001b[0m\u001b[0msqrt\u001b[0m\u001b[0;34m(\u001b[0m\u001b[0mbias_correction2\u001b[0m\u001b[0;34m)\u001b[0m \u001b[0;34m/\u001b[0m \u001b[0mbias_correction1\u001b[0m\u001b[0;34m\u001b[0m\u001b[0;34m\u001b[0m\u001b[0m\n\u001b[1;32m    106\u001b[0m \u001b[0;34m\u001b[0m\u001b[0m\n\u001b[0;32m--> 107\u001b[0;31m                 \u001b[0mp\u001b[0m\u001b[0;34m.\u001b[0m\u001b[0mdata\u001b[0m\u001b[0;34m.\u001b[0m\u001b[0maddcdiv_\u001b[0m\u001b[0;34m(\u001b[0m\u001b[0;34m-\u001b[0m\u001b[0mstep_size\u001b[0m\u001b[0;34m,\u001b[0m \u001b[0mexp_avg\u001b[0m\u001b[0;34m,\u001b[0m \u001b[0mdenom\u001b[0m\u001b[0;34m)\u001b[0m\u001b[0;34m\u001b[0m\u001b[0;34m\u001b[0m\u001b[0m\n\u001b[0m\u001b[1;32m    108\u001b[0m \u001b[0;34m\u001b[0m\u001b[0m\n\u001b[1;32m    109\u001b[0m         \u001b[0;32mreturn\u001b[0m \u001b[0mloss\u001b[0m\u001b[0;34m\u001b[0m\u001b[0;34m\u001b[0m\u001b[0m\n",
      "\u001b[0;31mKeyboardInterrupt\u001b[0m: "
     ]
    }
   ],
   "source": [
    "import argparse\n",
    "from state import State\n",
    "from data_loader import load_data\n",
    "from agent import Agent\n",
    "from attention import Attention\n",
    "import torch.nn as nn\n",
    "import torch\n",
    "import numpy as np\n",
    "from tqdm import tqdm\n",
    "from evaluate import computeF1, evaluate\n",
    "import math\n",
    "import random\n",
    "\n",
    "class ReactiveBaseline():\n",
    "    def __init__(self, l):\n",
    "        self.l = l\n",
    "        self.b = 0.0\n",
    "    def get_baseline_value(self):\n",
    "        return self.b\n",
    "    def update(self, target):\n",
    "        self.b = (1-self.l)*self.b + self.l*target\n",
    "\n",
    "\n",
    "GAMMA = 1\n",
    "WORD_EMB_DIM = 94\n",
    "NODE_EMB_DIM = 30\n",
    "H_DIM = 64\n",
    "T = 3\n",
    "NUM_EPOCH = 1000\n",
    "SOFT_REWARD_SCALE = 0.1\n",
    "NUM_ROLL_OUT = 1\n",
    "SHUFFLE = False\n",
    "\n",
    "# device \n",
    "device = torch.device(\"cuda:0\" if torch.cuda.is_available() else \"cpu\")\n",
    "\n",
    "# arguemnt parsing\n",
    "# load dataset\n",
    "node_embedding, rel_embedding, kg, train, test = load_data(\"countries\", WORD_EMB_DIM, \"ComplEX\")\n",
    "\n",
    "\n",
    "# projection from word embedding to node node embedding\n",
    "word2node = nn.Linear(WORD_EMB_DIM, NODE_EMB_DIM, bias=False).to(device)\n",
    "\n",
    "# mutihead self-attention\n",
    "attention = Attention(4, NODE_EMB_DIM, H_DIM, math.sqrt(H_DIM)).to(device)\n",
    "\n",
    "# list contains all params that need to optimize\n",
    "model_param_list = list(word2node.parameters()) + list(attention.parameters())\n",
    "\n",
    "# init agent\n",
    "state = State((train[0][1],train[0][2]), kg, node_embedding, WORD_EMB_DIM, word2node, attention, rel_embedding, T, device) # init here to calculate the input size\n",
    "input_dim = state.get_input_size()\n",
    "num_rel = len(kg.rel_vocab)\n",
    "num_entity = len(kg.en_vocab)\n",
    "num_subgraph = len(state.subgraphs)\n",
    "emb_dim = WORD_EMB_DIM + NODE_EMB_DIM\n",
    "baseline = ReactiveBaseline(l = 0.02)\n",
    "agent = Agent(input_dim, 32, emb_dim, 0, 2, num_entity, num_rel,num_subgraph, GAMMA, 0.00005, model_param_list, baseline, device)\n",
    "\n",
    "# training loop\n",
    "index_list = list(range(len(train)))\n",
    "acc = 0\n",
    "for epoch in range(NUM_EPOCH):\n",
    "    losses = []\n",
    "    rewards = []\n",
    "    correct = 0\n",
    "    true_positive = 0\n",
    "    \n",
    "    f1 = []\n",
    "    if SHUFFLE:\n",
    "        random.shuffle(index_list)\n",
    "    for n in tqdm(range(len(train))):\n",
    "        # create state from the question\n",
    "        i = index_list[n]\n",
    "        for _ in range(NUM_ROLL_OUT):\n",
    "            state = State((train[i][1],train[i][2]), kg, node_embedding, WORD_EMB_DIM, word2node, attention, rel_embedding, T, device)\n",
    "            answers = kg.encode_answers(train[i][0])\n",
    "            e0 = state.subgraphs[0][0]\n",
    "            agent.policy.init_path(e0, state)\n",
    "\n",
    "            # go for T step\n",
    "            for step in range(T):\n",
    "                action = agent.get_action(state)\n",
    "                g, r, e = action\n",
    "                if step < T-1:\n",
    "                    agent.hard_reward(0)\n",
    "                else:\n",
    "                    nodes = state.get_last_nodes()\n",
    "                    max_shortest_path = kg.max_shortest_path(nodes)\n",
    "                    if e in answers and nodes[0] == nodes[1]:\n",
    "                        correct += 1\n",
    "                        true_positive += 1\n",
    "                        if acc >= 0.4:\n",
    "                            print(i)\n",
    "                            assert(False)\n",
    "                        agent.hard_reward(10)\n",
    "                    elif e in answers:\n",
    "                        agent.hard_reward(1)\n",
    "                        correct += 1\n",
    "                    else:\n",
    "                        agent.hard_reward(0)\n",
    "                        #answer_embedding = state.node_embedding[answer]\n",
    "                        #e_embedding = state.node_embedding[e]\n",
    "                        #agent.soft_reward(answer_embedding, e_embedding, SOFT_REWARD_SCALE, -max_shortest_path)\n",
    "                state.update(action)\n",
    "                #print(\"step: \" + str(step) + \", take action: \" + str(action) + \"result_subgraphs:\" + str(state.subgraphs))\n",
    "\n",
    "            # update the policy net and record loss\n",
    "            loss, reward, last_reward = agent.update_policy()\n",
    "            losses.append(loss)\n",
    "            rewards.append(reward)\n",
    "\n",
    "    acc = correct/(NUM_ROLL_OUT*len(train))\n",
    "    avg_loss = np.mean(losses)\n",
    "    avg_reward = np.mean(rewards)\n",
    "    print(\"epoch: {}, loss: {}, reward: {}, true_positive: {}, acc: {}\".format(epoch, avg_loss, avg_reward, true_positive/NUM_ROLL_OUT, acc))\n",
    "\n",
    "    # evaluate on test set\n",
    "    if (epoch+1)%100 == 0:\n",
    "        evaluate(test, agent, kg, T, WORD_EMB_DIM, word2node, attention, rel_embedding, node_embedding, device, 15)"
   ]
  },
  {
   "cell_type": "code",
   "execution_count": null,
   "metadata": {
    "collapsed": true
   },
   "outputs": [],
   "source": []
  },
  {
   "cell_type": "code",
   "execution_count": 17,
   "metadata": {
    "scrolled": false
   },
   "outputs": [
    {
     "name": "stdout",
     "output_type": "stream",
     "text": [
      "153\n"
     ]
    },
    {
     "data": {
      "image/png": "[encoded data removed]",
      "text/plain": [
       "<Figure size 432x288 with 1 Axes>"
      ]
     },
     "metadata": {
      "needs_background": "light"
     },
     "output_type": "display_data"
    },
    {
     "data": {
      "image/png": "[encoded data removed]",
      "text/plain": [
       "<Figure size 432x288 with 1 Axes>"
      ]
     },
     "metadata": {
      "needs_background": "light"
     },
     "output_type": "display_data"
    },
    {
     "name": "stdout",
     "output_type": "stream",
     "text": [
      "[['central_europe'], ['slovenia']]\n",
      "1 neighborOf austria\n"
     ]
    },
    {
     "data": {
      "image/png": "[encoded data removed]",
      "text/plain": [
       "<Figure size 432x288 with 1 Axes>"
      ]
     },
     "metadata": {
      "needs_background": "light"
     },
     "output_type": "display_data"
    },
    {
     "data": {
      "image/png": "[encoded data removed]",
      "text/plain": [
       "<Figure size 432x288 with 1 Axes>"
      ]
     },
     "metadata": {
      "needs_background": "light"
     },
     "output_type": "display_data"
    },
    {
     "name": "stdout",
     "output_type": "stream",
     "text": [
      "[['central_europe'], ['slovenia', 'austria']]\n",
      "1 neighborOf slovakia\n"
     ]
    },
    {
     "data": {
      "image/png": "[encoded data removed]",
      "text/plain": [
       "<Figure size 432x288 with 1 Axes>"
      ]
     },
     "metadata": {
      "needs_background": "light"
     },
     "output_type": "display_data"
    },
    {
     "data": {
      "image/png": "[encoded data removed]",
      "text/plain": [
       "<Figure size 432x288 with 1 Axes>"
      ]
     },
     "metadata": {
      "needs_background": "light"
     },
     "output_type": "display_data"
    },
    {
     "name": "stdout",
     "output_type": "stream",
     "text": [
      "[['central_europe'], ['slovenia', 'austria', 'slovakia']]\n",
      "0 locatedIn slovakia\n",
      "slovakia\n",
      "slovakia\n",
      "[['central_europe', 'slovakia'], ['slovenia', 'austria', 'slovakia']]\n"
     ]
    },
    {
     "data": {
      "image/png": "[encoded data removed]",
      "text/plain": [
       "<Figure size 432x288 with 1 Axes>"
      ]
     },
     "metadata": {
      "needs_background": "light"
     },
     "output_type": "display_data"
    },
    {
     "data": {
      "image/png": "[encoded data removed]",
      "text/plain": [
       "<Figure size 432x288 with 1 Axes>"
      ]
     },
     "metadata": {
      "needs_background": "light"
     },
     "output_type": "display_data"
    },
    {
     "name": "stdout",
     "output_type": "stream",
     "text": [
      "['slovakia']\n",
      "predicted: slovakia\n"
     ]
    }
   ],
   "source": [
    "import torch\n",
    "import torch.nn.functional as F\n",
    "import numpy as np\n",
    "import matplotlib\n",
    "import matplotlib.pyplot as plt\n",
    "\n",
    "# select the question you want to visualize\n",
    "question_number = 1\n",
    "\n",
    "def find_ename(e):\n",
    "    for e_name in state.graph.en_vocab:\n",
    "        if state.graph.en_vocab[e_name] == e:\n",
    "            return e_name\n",
    "        \n",
    "def find_rname(r):\n",
    "    for r_name in state.graph.rel_vocab:\n",
    "        if state.graph.rel_vocab[r_name] == r:\n",
    "            return r_name\n",
    "            \n",
    "\n",
    "def print_attention():\n",
    "    with torch.no_grad():\n",
    "        projected_Rt = torch.t(state.word2node(torch.Tensor(state.Rt)))\n",
    "        rs = []\n",
    "        for r in state.rs:\n",
    "            rs.append(find_rname(r))      \n",
    "                        \n",
    "        for i, subgraph in enumerate(state.subgraphs):\n",
    "            gti = []\n",
    "            es = []\n",
    "            for e in subgraph:\n",
    "                gti.append(state.node_embedding[e])\n",
    "                es.append(find_ename(e))\n",
    "            gti = torch.Tensor(gti)\n",
    "            L = torch.mm(gti,projected_Rt)\n",
    "            A_Rt = F.softmax(L, dim=1)\n",
    "            graph = 1 - A_Rt\n",
    "            \n",
    "            fig, ax = plt.subplots()\n",
    "            im = ax.imshow(graph,cmap='gray')\n",
    "            ax.set_xticks(np.arange(len(rs)))\n",
    "            ax.set_yticks(np.arange(len(es)))\n",
    "            ax.set_xticklabels(rs)\n",
    "            ax.set_yticklabels(es)\n",
    "            \n",
    "            # Rotate the tick labels and set their alignment.\n",
    "            plt.setp(ax.get_xticklabels(), rotation=45, ha=\"right\", rotation_mode=\"anchor\")\n",
    "\n",
    "            # Loop over data dimensions and create text annotations.\n",
    "            for i in range(len(es)):\n",
    "                for j in range(len(rs)):\n",
    "                    text = ax.text(j, i, round(A_Rt[i, j].item(),3), ha=\"center\", va=\"center\", color=\"r\")\n",
    "\n",
    "            ax.set_title(\"attention\")\n",
    "            fig.tight_layout()\n",
    "            plt.show()\n",
    "\n",
    "def print_Agti():\n",
    "    with torch.no_grad():\n",
    "        projected_Rt = torch.t(state.word2node(torch.Tensor(state.Rt)))\n",
    "        rs = []\n",
    "        for r in state.rs:\n",
    "            if find_rname(r) not in rs:\n",
    "                rs.append(find_rname(r))      \n",
    "                        \n",
    "        for i, subgraph in enumerate(state.subgraphs):\n",
    "            gti = []\n",
    "            es = []\n",
    "            for e in subgraph:\n",
    "                gti.append(state.node_embedding[e])\n",
    "                es.append(find_ename(e))\n",
    "            gti = torch.Tensor(gti)\n",
    "            L = torch.mm(gti,projected_Rt)\n",
    "            A_gti = F.softmax(torch.t(L), dim=1)\n",
    "            graph = 1 - A_gti\n",
    "            \n",
    "            fig, ax = plt.subplots()\n",
    "            im = ax.imshow(graph,cmap='gray')\n",
    "            ax.set_xticks(np.arange(len(es)))\n",
    "            ax.set_yticks(np.arange(len(rs)))\n",
    "            ax.set_xticklabels(es)\n",
    "            ax.set_yticklabels(rs)\n",
    "            \n",
    "            # Rotate the tick labels and set their alignment.\n",
    "            plt.setp(ax.get_xticklabels(), rotation=45, ha=\"right\", rotation_mode=\"anchor\")\n",
    "\n",
    "            # Loop over data dimensions and create text annotations.\n",
    "            for i in range(len(rs)):\n",
    "                for j in range(len(es)):\n",
    "                    text = ax.text(j, i, round(A_gti[i, j].item(),3), ha=\"center\", va=\"center\", color=\"r\")\n",
    "\n",
    "            ax.set_title(\"attention\")\n",
    "            fig.tight_layout()\n",
    "            plt.show()\n",
    "\n",
    "for question_number in [153]:\n",
    "    print(question_number)\n",
    "    state = State((train[question_number][1],train[question_number][2]), kg, node_embedding, WORD_EMB_DIM, word2node, attention, rel_embedding, T, device)\n",
    "    ans_word = []\n",
    "    for a in train[question_number][0]:\n",
    "        ans_word.append(a)    \n",
    "    e0 = e0 = state.subgraphs[0][0]\n",
    "    agent.policy.init_path(e0, state)\n",
    "    \n",
    "    # go for T step\n",
    "    predicted = None\n",
    "    for step in range(T):\n",
    "        print_attention()\n",
    "        text_subgraphs = []\n",
    "        for subgraph in state.subgraphs:\n",
    "            temp = []\n",
    "            for e in subgraph:\n",
    "                temp.append(find_ename(e))\n",
    "            text_subgraphs.append(temp)\n",
    "        print(text_subgraphs)\n",
    "        embedded_state = state.get_embedded_state()\n",
    "        possible_actions = state.generate_all_possible_actions()\n",
    "        action = agent.get_action(state)\n",
    "        g, r, e = action\n",
    "        print(g, find_rname(r), find_ename(e))\n",
    "        \n",
    "        state.update(action)\n",
    "        \n",
    "    nodes = state.get_last_nodes()\n",
    "    a = len(state.subgraphs[0]) > 1\n",
    "    b = len(state.subgraphs[1]) > 1\n",
    "    if nodes[0] == nodes[1] and a and b:\n",
    "        for e in nodes:\n",
    "            print(find_ename(e))\n",
    "        max_shortest_path = kg.max_shortest_path(nodes)\n",
    "        text_subgraphs = []\n",
    "        for subgraph in state.subgraphs:\n",
    "            temp = []\n",
    "            for e in subgraph:\n",
    "                temp.append(find_ename(e))\n",
    "            text_subgraphs.append(temp)\n",
    "        print(text_subgraphs)\n",
    "        print_attention()\n",
    "        print(ans_word)\n",
    "        print(\"predicted: \" + find_ename(e))\n",
    "        break\n",
    " "
   ]
  },
  {
   "cell_type": "code",
   "execution_count": 15,
   "metadata": {},
   "outputs": [
    {
     "name": "stdout",
     "output_type": "stream",
     "text": [
      "Parameter containing:\n",
      "tensor([[-0.0231,  0.0345, -0.0024,  ...,  0.0043,  0.0059, -0.0285],\n",
      "        [ 0.0075, -0.0653,  0.0121,  ..., -0.0427, -0.0371, -0.0151],\n",
      "        [ 0.0130, -0.0058, -0.0467,  ..., -0.0144, -0.0086, -0.0456],\n",
      "        ...,\n",
      "        [-0.0249,  0.0097,  0.0436,  ..., -0.0175, -0.0471, -0.0223],\n",
      "        [-0.0365,  0.0299, -0.0302,  ...,  0.0414,  0.0230, -0.0454],\n",
      "        [-0.0366,  0.0197, -0.0279,  ..., -0.0101, -0.0358, -0.0059]],\n",
      "       requires_grad=True)\n"
     ]
    }
   ],
   "source": [
    "\n"
   ]
  },
  {
   "cell_type": "code",
   "execution_count": 42,
   "metadata": {
    "collapsed": true
   },
   "outputs": [
    {
     "data": {
      "image/png": "[encoded data removed]",
      "text/plain": [
       "<Figure size 432x288 with 1 Axes>"
      ]
     },
     "metadata": {
      "needs_background": "light"
     },
     "output_type": "display_data"
    }
   ],
   "source": [
    "node_1 = [2.075862068965517, 1.6413793103448275, 0.8620689655172413, 0.5379310344827586, 0.46206896551724136, 0.45517241379310347, 0.5793103448275863, 0.6137931034482759, 0.5310344827586206, 0.47586206896551725]\n",
    "node_2 = [2.310344827586207, 1.6758620689655173, 1.4482758620689655, 2.2620689655172415, 1.910344827586207, 1.4482758620689655, 0.993103448275862, 1.1448275862068966, 1.1310344827586207, 1.1586206896551725]\n",
    "node_3 = [2.524137931034483, 2.282758620689655, 2.689655172413793, 2.524137931034483, 2.717241379310345, 2.4413793103448276, 2.8689655172413793, 2.7655172413793103, 2.3241379310344827, 2.7517241379310344]\n",
    "fig, ax = plt.subplots()\n",
    "x = np.arange(len(node_1))\n",
    "x = x*5\n",
    "x[0] += 1\n",
    "line1 = ax.plot(x, node_1, label=\"first step\")\n",
    "line2 = ax.plot(x, node_2, label=\"second step\")\n",
    "line3 = ax.plot(x, node_3, label=\"third step\")\n",
    "plt.xlabel(\"epoch\")\n",
    "plt.ylabel(\"avg out-coming edge from the picked node\")\n",
    "# Shrink current axis by 20%\n",
    "box = ax.get_position()\n",
    "ax.set_position([box.x0, box.y0, box.width * 1, box.height])\n",
    "\n",
    "# Put a legend to the right of the current axis\n",
    "ax.legend(loc='upper center', bbox_to_anchor=(0.5, 1.15),\n",
    "          fancybox=True, shadow=True, ncol=5)\n",
    "\n",
    "plt.show()"
   ]
  },
  {
   "cell_type": "code",
   "execution_count": null,
   "metadata": {
    "collapsed": true
   },
   "outputs": [],
   "source": []
  }
 ],
 "metadata": {
  "kernelspec": {
   "display_name": "Python 3",
   "language": "python",
   "name": "python3"
  },
  "language_info": {
   "codemirror_mode": {
    "name": "ipython",
    "version": 3
   },
   "file_extension": ".py",
   "mimetype": "text/x-python",
   "name": "python",
   "nbconvert_exporter": "python",
   "pygments_lexer": "ipython3",
   "version": "3.7.1"
  }
 },
 "nbformat": 4,
 "nbformat_minor": 2
}
