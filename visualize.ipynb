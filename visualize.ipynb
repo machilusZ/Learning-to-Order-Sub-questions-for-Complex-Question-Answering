{
 "cells": [
  {
   "cell_type": "code",
   "execution_count": 19,
   "metadata": {
    "scrolled": true
   },
   "outputs": [
    {
     "name": "stderr",
     "output_type": "stream",
     "text": [
      "100%|██████████| 230/230 [00:06<00:00, 33.17it/s]\n",
      "  0%|          | 0/108 [00:00<?, ?it/s]"
     ]
    },
    {
     "name": "stdout",
     "output_type": "stream",
     "text": [
      "epoch: 0, loss: -0.18041222713401783, reward: -0.11779891304347827, acc: 0.0, f1: 0.06956521739130435\n"
     ]
    },
    {
     "name": "stderr",
     "output_type": "stream",
     "text": [
      "100%|██████████| 108/108 [00:41<00:00,  2.58it/s]\n",
      "  1%|▏         | 3/230 [00:00<00:07, 29.49it/s]"
     ]
    },
    {
     "name": "stdout",
     "output_type": "stream",
     "text": [
      "hit@1: 0.08333333333333333, hit@2: 0.14814814814814814, hit@3: 0.2222222222222222, hit@5: 0.26851851851851855, hit@10: 0.4166666666666667\n"
     ]
    },
    {
     "name": "stderr",
     "output_type": "stream",
     "text": [
      "100%|██████████| 230/230 [00:07<00:00, 31.71it/s]\n",
      "  2%|▏         | 4/230 [00:00<00:06, 33.60it/s]"
     ]
    },
    {
     "name": "stdout",
     "output_type": "stream",
     "text": [
      "epoch: 1, loss: -0.17160843383196903, reward: -0.028532608695652172, acc: 0.0, f1: 0.09565217391304348\n"
     ]
    },
    {
     "name": "stderr",
     "output_type": "stream",
     "text": [
      "100%|██████████| 230/230 [00:07<00:00, 32.35it/s]\n",
      "  1%|▏         | 3/230 [00:00<00:08, 27.61it/s]"
     ]
    },
    {
     "name": "stdout",
     "output_type": "stream",
     "text": [
      "epoch: 2, loss: -0.12617526719063196, reward: 0.3061141304347826, acc: 0.0, f1: 0.1956521739130435\n"
     ]
    },
    {
     "name": "stderr",
     "output_type": "stream",
     "text": [
      "100%|██████████| 230/230 [00:09<00:00, 25.39it/s]\n",
      "  1%|▏         | 3/230 [00:00<00:09, 23.33it/s]"
     ]
    },
    {
     "name": "stdout",
     "output_type": "stream",
     "text": [
      "epoch: 3, loss: -0.19980917115058022, reward: 0.38845108695652175, acc: 0.0, f1: 0.2217391304347826\n"
     ]
    },
    {
     "name": "stderr",
     "output_type": "stream",
     "text": [
      "100%|██████████| 230/230 [00:10<00:00, 22.40it/s]\n",
      "  1%|▏         | 3/230 [00:00<00:10, 21.67it/s]"
     ]
    },
    {
     "name": "stdout",
     "output_type": "stream",
     "text": [
      "epoch: 4, loss: -0.11479779135278596, reward: 0.508695652173913, acc: 0.0, f1: 0.2565217391304348\n"
     ]
    },
    {
     "name": "stderr",
     "output_type": "stream",
     "text": [
      "100%|██████████| 230/230 [00:10<00:00, 22.58it/s]\n",
      "  0%|          | 0/108 [00:00<?, ?it/s]"
     ]
    },
    {
     "name": "stdout",
     "output_type": "stream",
     "text": [
      "epoch: 5, loss: -0.07065448936313255, reward: 0.5832880434782609, acc: 0.0, f1: 0.2782608695652174\n"
     ]
    },
    {
     "name": "stderr",
     "output_type": "stream",
     "text": [
      "100%|██████████| 108/108 [00:40<00:00,  2.67it/s]\n",
      "  1%|▏         | 3/230 [00:00<00:10, 22.41it/s]"
     ]
    },
    {
     "name": "stdout",
     "output_type": "stream",
     "text": [
      "hit@1: 0.17592592592592593, hit@2: 0.28703703703703703, hit@3: 0.3333333333333333, hit@5: 0.3888888888888889, hit@10: 0.5370370370370371\n"
     ]
    },
    {
     "name": "stderr",
     "output_type": "stream",
     "text": [
      "100%|██████████| 230/230 [00:09<00:00, 23.62it/s]\n",
      "  1%|▏         | 3/230 [00:00<00:10, 20.90it/s]"
     ]
    },
    {
     "name": "stdout",
     "output_type": "stream",
     "text": [
      "epoch: 6, loss: -0.11795617837386561, reward: 0.6383152173913044, acc: 0.0, f1: 0.2956521739130435\n"
     ]
    },
    {
     "name": "stderr",
     "output_type": "stream",
     "text": [
      "100%|██████████| 230/230 [00:10<00:00, 22.84it/s]\n",
      "  1%|▏         | 3/230 [00:00<00:10, 22.14it/s]"
     ]
    },
    {
     "name": "stdout",
     "output_type": "stream",
     "text": [
      "epoch: 7, loss: -0.08096509105976692, reward: 0.6529891304347826, acc: 0.0, f1: 0.3\n"
     ]
    },
    {
     "name": "stderr",
     "output_type": "stream",
     "text": [
      "100%|██████████| 230/230 [00:09<00:00, 23.35it/s]\n",
      "  1%|▏         | 3/230 [00:00<00:09, 23.86it/s]"
     ]
    },
    {
     "name": "stdout",
     "output_type": "stream",
     "text": [
      "epoch: 8, loss: -0.05874637724682407, reward: 0.7728260869565218, acc: 0.0, f1: 0.3347826086956522\n"
     ]
    },
    {
     "name": "stderr",
     "output_type": "stream",
     "text": [
      "100%|██████████| 230/230 [00:10<00:00, 22.20it/s]\n",
      "  1%|▏         | 3/230 [00:00<00:09, 23.25it/s]"
     ]
    },
    {
     "name": "stdout",
     "output_type": "stream",
     "text": [
      "epoch: 9, loss: -0.061256104109906506, reward: 0.7528532608695652, acc: 0.0, f1: 0.33043478260869563\n"
     ]
    },
    {
     "name": "stderr",
     "output_type": "stream",
     "text": [
      "100%|██████████| 230/230 [00:10<00:00, 22.99it/s]\n",
      "  0%|          | 0/108 [00:00<?, ?it/s]"
     ]
    },
    {
     "name": "stdout",
     "output_type": "stream",
     "text": [
      "epoch: 10, loss: -0.06449046240160511, reward: 0.7548913043478261, acc: 0.0, f1: 0.33043478260869563\n"
     ]
    },
    {
     "name": "stderr",
     "output_type": "stream",
     "text": [
      "100%|██████████| 108/108 [00:40<00:00,  2.70it/s]\n",
      "  1%|▏         | 3/230 [00:00<00:10, 20.86it/s]"
     ]
    },
    {
     "name": "stdout",
     "output_type": "stream",
     "text": [
      "hit@1: 0.18518518518518517, hit@2: 0.2962962962962963, hit@3: 0.3148148148148148, hit@5: 0.4166666666666667, hit@10: 0.5185185185185185\n"
     ]
    },
    {
     "name": "stderr",
     "output_type": "stream",
     "text": [
      "100%|██████████| 230/230 [00:10<00:00, 22.28it/s]\n",
      "  1%|▏         | 3/230 [00:00<00:09, 23.54it/s]"
     ]
    },
    {
     "name": "stdout",
     "output_type": "stream",
     "text": [
      "epoch: 11, loss: -0.07231957183899837, reward: 0.8457880434782609, acc: 0.0, f1: 0.3565217391304348\n"
     ]
    },
    {
     "name": "stderr",
     "output_type": "stream",
     "text": [
      "100%|██████████| 230/230 [00:10<00:00, 21.48it/s]\n",
      "  1%|▏         | 3/230 [00:00<00:10, 21.80it/s]"
     ]
    },
    {
     "name": "stdout",
     "output_type": "stream",
     "text": [
      "epoch: 12, loss: -0.06157860160064573, reward: 0.7960597826086957, acc: 0.0, f1: 0.3391304347826087\n"
     ]
    },
    {
     "name": "stderr",
     "output_type": "stream",
     "text": [
      "100%|██████████| 230/230 [00:10<00:00, 21.58it/s]\n",
      "  1%|▏         | 3/230 [00:00<00:09, 23.49it/s]"
     ]
    },
    {
     "name": "stdout",
     "output_type": "stream",
     "text": [
      "epoch: 13, loss: -0.04114919180583641, reward: 0.9065217391304348, acc: 0.0, f1: 0.3739130434782609\n"
     ]
    },
    {
     "name": "stderr",
     "output_type": "stream",
     "text": [
      "100%|██████████| 230/230 [00:10<00:00, 17.80it/s]\n",
      "  1%|▏         | 3/230 [00:00<00:11, 20.54it/s]"
     ]
    },
    {
     "name": "stdout",
     "output_type": "stream",
     "text": [
      "epoch: 14, loss: -0.053174148349668826, reward: 0.8201086956521739, acc: 0.0, f1: 0.34782608695652173\n"
     ]
    },
    {
     "name": "stderr",
     "output_type": "stream",
     "text": [
      "100%|██████████| 230/230 [00:10<00:00, 21.11it/s]\n",
      "  0%|          | 0/108 [00:00<?, ?it/s]"
     ]
    },
    {
     "name": "stdout",
     "output_type": "stream",
     "text": [
      "epoch: 15, loss: -0.0357402539982765, reward: 0.8792119565217391, acc: 0.0, f1: 0.3652173913043478\n"
     ]
    },
    {
     "name": "stderr",
     "output_type": "stream",
     "text": [
      "100%|██████████| 108/108 [00:42<00:00,  2.78it/s]\n",
      "  1%|▏         | 3/230 [00:00<00:10, 22.06it/s]"
     ]
    },
    {
     "name": "stdout",
     "output_type": "stream",
     "text": [
      "hit@1: 0.2037037037037037, hit@2: 0.3055555555555556, hit@3: 0.3425925925925926, hit@5: 0.42592592592592593, hit@10: 0.5648148148148148\n"
     ]
    },
    {
     "name": "stderr",
     "output_type": "stream",
     "text": [
      "100%|██████████| 230/230 [00:10<00:00, 21.53it/s]\n",
      "  1%|▏         | 3/230 [00:00<00:10, 21.23it/s]"
     ]
    },
    {
     "name": "stdout",
     "output_type": "stream",
     "text": [
      "epoch: 16, loss: -0.014726911292018547, reward: 0.9052989130434783, acc: 0.0, f1: 0.3739130434782609\n"
     ]
    },
    {
     "name": "stderr",
     "output_type": "stream",
     "text": [
      "100%|██████████| 230/230 [00:10<00:00, 21.98it/s]\n",
      "  1%|▏         | 3/230 [00:00<00:10, 22.64it/s]"
     ]
    },
    {
     "name": "stdout",
     "output_type": "stream",
     "text": [
      "epoch: 17, loss: -0.0384835127734182, reward: 0.9358695652173913, acc: 0.0, f1: 0.3826086956521739\n"
     ]
    },
    {
     "name": "stderr",
     "output_type": "stream",
     "text": [
      "100%|██████████| 230/230 [00:10<00:00, 22.24it/s]\n",
      "  1%|▏         | 3/230 [00:00<00:10, 21.68it/s]"
     ]
    },
    {
     "name": "stdout",
     "output_type": "stream",
     "text": [
      "epoch: 18, loss: -0.03889697234445334, reward: 0.9252717391304348, acc: 0.0, f1: 0.3782608695652174\n"
     ]
    },
    {
     "name": "stderr",
     "output_type": "stream",
     "text": [
      "100%|██████████| 230/230 [00:10<00:00, 22.64it/s]\n",
      "  1%|▏         | 3/230 [00:00<00:10, 21.70it/s]"
     ]
    },
    {
     "name": "stdout",
     "output_type": "stream",
     "text": [
      "epoch: 19, loss: -0.020912317675200267, reward: 0.9220108695652174, acc: 0.0, f1: 0.3782608695652174\n"
     ]
    },
    {
     "name": "stderr",
     "output_type": "stream",
     "text": [
      "100%|██████████| 230/230 [00:10<00:00, 22.81it/s]\n",
      "  0%|          | 0/108 [00:00<?, ?it/s]"
     ]
    },
    {
     "name": "stdout",
     "output_type": "stream",
     "text": [
      "epoch: 20, loss: -0.013679362028869607, reward: 0.9652173913043478, acc: 0.0, f1: 0.391304347826087\n"
     ]
    },
    {
     "name": "stderr",
     "output_type": "stream",
     "text": [
      "100%|██████████| 108/108 [00:41<00:00,  2.48it/s]\n",
      "  1%|          | 2/230 [00:00<00:11, 19.03it/s]"
     ]
    },
    {
     "name": "stdout",
     "output_type": "stream",
     "text": [
      "hit@1: 0.18518518518518517, hit@2: 0.2777777777777778, hit@3: 0.3333333333333333, hit@5: 0.42592592592592593, hit@10: 0.5277777777777778\n"
     ]
    },
    {
     "name": "stderr",
     "output_type": "stream",
     "text": [
      "100%|██████████| 230/230 [00:11<00:00, 20.45it/s]\n",
      "  1%|▏         | 3/230 [00:00<00:10, 22.37it/s]"
     ]
    },
    {
     "name": "stdout",
     "output_type": "stream",
     "text": [
      "epoch: 21, loss: -0.025520658621011726, reward: 1.008016304347826, acc: 0.0, f1: 0.4043478260869565\n"
     ]
    },
    {
     "name": "stderr",
     "output_type": "stream",
     "text": [
      " 18%|█▊        | 42/230 [00:01<00:08, 21.53it/s]\n"
     ]
    },
    {
     "ename": "KeyboardInterrupt",
     "evalue": "",
     "output_type": "error",
     "traceback": [
      "\u001b[0;31m---------------------------------------------------------------------------\u001b[0m",
      "\u001b[0;31mKeyboardInterrupt\u001b[0m                         Traceback (most recent call last)",
      "\u001b[0;32m<ipython-input-19-1374c59d090d>\u001b[0m in \u001b[0;36m<module>\u001b[0;34m\u001b[0m\n\u001b[1;32m     77\u001b[0m                 \u001b[0membedded_state\u001b[0m \u001b[0;34m=\u001b[0m \u001b[0mstate\u001b[0m\u001b[0;34m.\u001b[0m\u001b[0mget_embedded_state\u001b[0m\u001b[0;34m(\u001b[0m\u001b[0;34m)\u001b[0m\u001b[0;34m\u001b[0m\u001b[0;34m\u001b[0m\u001b[0m\n\u001b[1;32m     78\u001b[0m                 \u001b[0mpossible_actions\u001b[0m \u001b[0;34m=\u001b[0m \u001b[0mstate\u001b[0m\u001b[0;34m.\u001b[0m\u001b[0mgenerate_all_possible_actions\u001b[0m\u001b[0;34m(\u001b[0m\u001b[0;34m)\u001b[0m\u001b[0;34m\u001b[0m\u001b[0;34m\u001b[0m\u001b[0m\n\u001b[0;32m---> 79\u001b[0;31m                 \u001b[0maction\u001b[0m \u001b[0;34m=\u001b[0m \u001b[0magent\u001b[0m\u001b[0;34m.\u001b[0m\u001b[0mget_action\u001b[0m\u001b[0;34m(\u001b[0m\u001b[0membedded_state\u001b[0m\u001b[0;34m,\u001b[0m \u001b[0mpossible_actions\u001b[0m\u001b[0;34m)\u001b[0m\u001b[0;34m\u001b[0m\u001b[0;34m\u001b[0m\u001b[0m\n\u001b[0m\u001b[1;32m     80\u001b[0m                 \u001b[0mr\u001b[0m\u001b[0;34m,\u001b[0m \u001b[0me\u001b[0m \u001b[0;34m=\u001b[0m \u001b[0maction\u001b[0m\u001b[0;34m\u001b[0m\u001b[0;34m\u001b[0m\u001b[0m\n\u001b[1;32m     81\u001b[0m                 \u001b[0;32mif\u001b[0m \u001b[0mstep\u001b[0m \u001b[0;34m<\u001b[0m \u001b[0mT\u001b[0m\u001b[0;34m-\u001b[0m\u001b[0;36m1\u001b[0m\u001b[0;34m:\u001b[0m\u001b[0;34m\u001b[0m\u001b[0;34m\u001b[0m\u001b[0m\n",
      "\u001b[0;32m~/research/REI/agent.py\u001b[0m in \u001b[0;36mget_action\u001b[0;34m(self, state, possible_actions)\u001b[0m\n\u001b[1;32m     22\u001b[0m \u001b[0;34m\u001b[0m\u001b[0m\n\u001b[1;32m     23\u001b[0m     \u001b[0;32mdef\u001b[0m \u001b[0mget_action\u001b[0m\u001b[0;34m(\u001b[0m\u001b[0mself\u001b[0m\u001b[0;34m,\u001b[0m \u001b[0mstate\u001b[0m\u001b[0;34m,\u001b[0m \u001b[0mpossible_actions\u001b[0m\u001b[0;34m)\u001b[0m\u001b[0;34m:\u001b[0m\u001b[0;34m\u001b[0m\u001b[0;34m\u001b[0m\u001b[0m\n\u001b[0;32m---> 24\u001b[0;31m         \u001b[0mscores\u001b[0m \u001b[0;34m=\u001b[0m \u001b[0mself\u001b[0m\u001b[0;34m.\u001b[0m\u001b[0mpolicy\u001b[0m\u001b[0;34m(\u001b[0m\u001b[0mstate\u001b[0m\u001b[0;34m)\u001b[0m\u001b[0;34m\u001b[0m\u001b[0;34m\u001b[0m\u001b[0m\n\u001b[0m\u001b[1;32m     25\u001b[0m         \u001b[0;31m# zero out all impossible actions\u001b[0m\u001b[0;34m\u001b[0m\u001b[0;34m\u001b[0m\u001b[0;34m\u001b[0m\u001b[0m\n\u001b[1;32m     26\u001b[0m         \u001b[0mpossible_index\u001b[0m \u001b[0;34m=\u001b[0m \u001b[0;34m[\u001b[0m\u001b[0;34m]\u001b[0m\u001b[0;34m\u001b[0m\u001b[0;34m\u001b[0m\u001b[0m\n",
      "\u001b[0;32m~/anaconda3/lib/python3.7/site-packages/torch/nn/modules/module.py\u001b[0m in \u001b[0;36m__call__\u001b[0;34m(self, *input, **kwargs)\u001b[0m\n\u001b[1;32m    487\u001b[0m             \u001b[0mresult\u001b[0m \u001b[0;34m=\u001b[0m \u001b[0mself\u001b[0m\u001b[0;34m.\u001b[0m\u001b[0m_slow_forward\u001b[0m\u001b[0;34m(\u001b[0m\u001b[0;34m*\u001b[0m\u001b[0minput\u001b[0m\u001b[0;34m,\u001b[0m \u001b[0;34m**\u001b[0m\u001b[0mkwargs\u001b[0m\u001b[0;34m)\u001b[0m\u001b[0;34m\u001b[0m\u001b[0;34m\u001b[0m\u001b[0m\n\u001b[1;32m    488\u001b[0m         \u001b[0;32melse\u001b[0m\u001b[0;34m:\u001b[0m\u001b[0;34m\u001b[0m\u001b[0;34m\u001b[0m\u001b[0m\n\u001b[0;32m--> 489\u001b[0;31m             \u001b[0mresult\u001b[0m \u001b[0;34m=\u001b[0m \u001b[0mself\u001b[0m\u001b[0;34m.\u001b[0m\u001b[0mforward\u001b[0m\u001b[0;34m(\u001b[0m\u001b[0;34m*\u001b[0m\u001b[0minput\u001b[0m\u001b[0;34m,\u001b[0m \u001b[0;34m**\u001b[0m\u001b[0mkwargs\u001b[0m\u001b[0;34m)\u001b[0m\u001b[0;34m\u001b[0m\u001b[0;34m\u001b[0m\u001b[0m\n\u001b[0m\u001b[1;32m    490\u001b[0m         \u001b[0;32mfor\u001b[0m \u001b[0mhook\u001b[0m \u001b[0;32min\u001b[0m \u001b[0mself\u001b[0m\u001b[0;34m.\u001b[0m\u001b[0m_forward_hooks\u001b[0m\u001b[0;34m.\u001b[0m\u001b[0mvalues\u001b[0m\u001b[0;34m(\u001b[0m\u001b[0;34m)\u001b[0m\u001b[0;34m:\u001b[0m\u001b[0;34m\u001b[0m\u001b[0;34m\u001b[0m\u001b[0m\n\u001b[1;32m    491\u001b[0m             \u001b[0mhook_result\u001b[0m \u001b[0;34m=\u001b[0m \u001b[0mhook\u001b[0m\u001b[0;34m(\u001b[0m\u001b[0mself\u001b[0m\u001b[0;34m,\u001b[0m \u001b[0minput\u001b[0m\u001b[0;34m,\u001b[0m \u001b[0mresult\u001b[0m\u001b[0;34m)\u001b[0m\u001b[0;34m\u001b[0m\u001b[0;34m\u001b[0m\u001b[0m\n",
      "\u001b[0;32m~/research/REI/policy.py\u001b[0m in \u001b[0;36mforward\u001b[0;34m(self, state)\u001b[0m\n\u001b[1;32m     36\u001b[0m         \u001b[0mX\u001b[0m \u001b[0;34m=\u001b[0m \u001b[0mtorch\u001b[0m\u001b[0;34m.\u001b[0m\u001b[0mcat\u001b[0m\u001b[0;34m(\u001b[0m\u001b[0;34m(\u001b[0m\u001b[0mHt\u001b[0m\u001b[0;34m,\u001b[0m\u001b[0mpt\u001b[0m\u001b[0;34m,\u001b[0m\u001b[0mRt\u001b[0m\u001b[0;34m.\u001b[0m\u001b[0mto\u001b[0m\u001b[0;34m(\u001b[0m\u001b[0mself\u001b[0m\u001b[0;34m.\u001b[0m\u001b[0mdevice\u001b[0m\u001b[0;34m)\u001b[0m\u001b[0;34m)\u001b[0m\u001b[0;34m,\u001b[0m \u001b[0mdim\u001b[0m\u001b[0;34m=\u001b[0m\u001b[0;34m-\u001b[0m\u001b[0;36m1\u001b[0m\u001b[0;34m)\u001b[0m\u001b[0;34m\u001b[0m\u001b[0;34m\u001b[0m\u001b[0m\n\u001b[1;32m     37\u001b[0m \u001b[0;34m\u001b[0m\u001b[0m\n\u001b[0;32m---> 38\u001b[0;31m         \u001b[0mX\u001b[0m \u001b[0;34m=\u001b[0m \u001b[0mself\u001b[0m\u001b[0;34m.\u001b[0m\u001b[0mfc1\u001b[0m\u001b[0;34m(\u001b[0m\u001b[0mX\u001b[0m\u001b[0;34m)\u001b[0m\u001b[0;34m\u001b[0m\u001b[0;34m\u001b[0m\u001b[0m\n\u001b[0m\u001b[1;32m     39\u001b[0m         \u001b[0mX\u001b[0m \u001b[0;34m=\u001b[0m \u001b[0mF\u001b[0m\u001b[0;34m.\u001b[0m\u001b[0mrelu\u001b[0m\u001b[0;34m(\u001b[0m\u001b[0mX\u001b[0m\u001b[0;34m)\u001b[0m\u001b[0;34m\u001b[0m\u001b[0;34m\u001b[0m\u001b[0m\n\u001b[1;32m     40\u001b[0m         \u001b[0mX\u001b[0m \u001b[0;34m=\u001b[0m \u001b[0mself\u001b[0m\u001b[0;34m.\u001b[0m\u001b[0mDropout1\u001b[0m\u001b[0;34m(\u001b[0m\u001b[0mX\u001b[0m\u001b[0;34m)\u001b[0m\u001b[0;34m\u001b[0m\u001b[0;34m\u001b[0m\u001b[0m\n",
      "\u001b[0;32m~/anaconda3/lib/python3.7/site-packages/torch/nn/modules/module.py\u001b[0m in \u001b[0;36m__call__\u001b[0;34m(self, *input, **kwargs)\u001b[0m\n\u001b[1;32m    487\u001b[0m             \u001b[0mresult\u001b[0m \u001b[0;34m=\u001b[0m \u001b[0mself\u001b[0m\u001b[0;34m.\u001b[0m\u001b[0m_slow_forward\u001b[0m\u001b[0;34m(\u001b[0m\u001b[0;34m*\u001b[0m\u001b[0minput\u001b[0m\u001b[0;34m,\u001b[0m \u001b[0;34m**\u001b[0m\u001b[0mkwargs\u001b[0m\u001b[0;34m)\u001b[0m\u001b[0;34m\u001b[0m\u001b[0;34m\u001b[0m\u001b[0m\n\u001b[1;32m    488\u001b[0m         \u001b[0;32melse\u001b[0m\u001b[0;34m:\u001b[0m\u001b[0;34m\u001b[0m\u001b[0;34m\u001b[0m\u001b[0m\n\u001b[0;32m--> 489\u001b[0;31m             \u001b[0mresult\u001b[0m \u001b[0;34m=\u001b[0m \u001b[0mself\u001b[0m\u001b[0;34m.\u001b[0m\u001b[0mforward\u001b[0m\u001b[0;34m(\u001b[0m\u001b[0;34m*\u001b[0m\u001b[0minput\u001b[0m\u001b[0;34m,\u001b[0m \u001b[0;34m**\u001b[0m\u001b[0mkwargs\u001b[0m\u001b[0;34m)\u001b[0m\u001b[0;34m\u001b[0m\u001b[0;34m\u001b[0m\u001b[0m\n\u001b[0m\u001b[1;32m    490\u001b[0m         \u001b[0;32mfor\u001b[0m \u001b[0mhook\u001b[0m \u001b[0;32min\u001b[0m \u001b[0mself\u001b[0m\u001b[0;34m.\u001b[0m\u001b[0m_forward_hooks\u001b[0m\u001b[0;34m.\u001b[0m\u001b[0mvalues\u001b[0m\u001b[0;34m(\u001b[0m\u001b[0;34m)\u001b[0m\u001b[0;34m:\u001b[0m\u001b[0;34m\u001b[0m\u001b[0;34m\u001b[0m\u001b[0m\n\u001b[1;32m    491\u001b[0m             \u001b[0mhook_result\u001b[0m \u001b[0;34m=\u001b[0m \u001b[0mhook\u001b[0m\u001b[0;34m(\u001b[0m\u001b[0mself\u001b[0m\u001b[0;34m,\u001b[0m \u001b[0minput\u001b[0m\u001b[0;34m,\u001b[0m \u001b[0mresult\u001b[0m\u001b[0;34m)\u001b[0m\u001b[0;34m\u001b[0m\u001b[0;34m\u001b[0m\u001b[0m\n",
      "\u001b[0;32m~/anaconda3/lib/python3.7/site-packages/torch/nn/modules/linear.py\u001b[0m in \u001b[0;36mforward\u001b[0;34m(self, input)\u001b[0m\n\u001b[1;32m     65\u001b[0m     \u001b[0;34m@\u001b[0m\u001b[0mweak_script_method\u001b[0m\u001b[0;34m\u001b[0m\u001b[0;34m\u001b[0m\u001b[0m\n\u001b[1;32m     66\u001b[0m     \u001b[0;32mdef\u001b[0m \u001b[0mforward\u001b[0m\u001b[0;34m(\u001b[0m\u001b[0mself\u001b[0m\u001b[0;34m,\u001b[0m \u001b[0minput\u001b[0m\u001b[0;34m)\u001b[0m\u001b[0;34m:\u001b[0m\u001b[0;34m\u001b[0m\u001b[0;34m\u001b[0m\u001b[0m\n\u001b[0;32m---> 67\u001b[0;31m         \u001b[0;32mreturn\u001b[0m \u001b[0mF\u001b[0m\u001b[0;34m.\u001b[0m\u001b[0mlinear\u001b[0m\u001b[0;34m(\u001b[0m\u001b[0minput\u001b[0m\u001b[0;34m,\u001b[0m \u001b[0mself\u001b[0m\u001b[0;34m.\u001b[0m\u001b[0mweight\u001b[0m\u001b[0;34m,\u001b[0m \u001b[0mself\u001b[0m\u001b[0;34m.\u001b[0m\u001b[0mbias\u001b[0m\u001b[0;34m)\u001b[0m\u001b[0;34m\u001b[0m\u001b[0;34m\u001b[0m\u001b[0m\n\u001b[0m\u001b[1;32m     68\u001b[0m \u001b[0;34m\u001b[0m\u001b[0m\n\u001b[1;32m     69\u001b[0m     \u001b[0;32mdef\u001b[0m \u001b[0mextra_repr\u001b[0m\u001b[0;34m(\u001b[0m\u001b[0mself\u001b[0m\u001b[0;34m)\u001b[0m\u001b[0;34m:\u001b[0m\u001b[0;34m\u001b[0m\u001b[0;34m\u001b[0m\u001b[0m\n",
      "\u001b[0;32m~/anaconda3/lib/python3.7/site-packages/torch/nn/functional.py\u001b[0m in \u001b[0;36mlinear\u001b[0;34m(input, weight, bias)\u001b[0m\n\u001b[1;32m   1352\u001b[0m         \u001b[0mret\u001b[0m \u001b[0;34m=\u001b[0m \u001b[0mtorch\u001b[0m\u001b[0;34m.\u001b[0m\u001b[0maddmm\u001b[0m\u001b[0;34m(\u001b[0m\u001b[0mtorch\u001b[0m\u001b[0;34m.\u001b[0m\u001b[0mjit\u001b[0m\u001b[0;34m.\u001b[0m\u001b[0m_unwrap_optional\u001b[0m\u001b[0;34m(\u001b[0m\u001b[0mbias\u001b[0m\u001b[0;34m)\u001b[0m\u001b[0;34m,\u001b[0m \u001b[0minput\u001b[0m\u001b[0;34m,\u001b[0m \u001b[0mweight\u001b[0m\u001b[0;34m.\u001b[0m\u001b[0mt\u001b[0m\u001b[0;34m(\u001b[0m\u001b[0;34m)\u001b[0m\u001b[0;34m)\u001b[0m\u001b[0;34m\u001b[0m\u001b[0;34m\u001b[0m\u001b[0m\n\u001b[1;32m   1353\u001b[0m     \u001b[0;32melse\u001b[0m\u001b[0;34m:\u001b[0m\u001b[0;34m\u001b[0m\u001b[0;34m\u001b[0m\u001b[0m\n\u001b[0;32m-> 1354\u001b[0;31m         \u001b[0moutput\u001b[0m \u001b[0;34m=\u001b[0m \u001b[0minput\u001b[0m\u001b[0;34m.\u001b[0m\u001b[0mmatmul\u001b[0m\u001b[0;34m(\u001b[0m\u001b[0mweight\u001b[0m\u001b[0;34m.\u001b[0m\u001b[0mt\u001b[0m\u001b[0;34m(\u001b[0m\u001b[0;34m)\u001b[0m\u001b[0;34m)\u001b[0m\u001b[0;34m\u001b[0m\u001b[0;34m\u001b[0m\u001b[0m\n\u001b[0m\u001b[1;32m   1355\u001b[0m         \u001b[0;32mif\u001b[0m \u001b[0mbias\u001b[0m \u001b[0;32mis\u001b[0m \u001b[0;32mnot\u001b[0m \u001b[0;32mNone\u001b[0m\u001b[0;34m:\u001b[0m\u001b[0;34m\u001b[0m\u001b[0;34m\u001b[0m\u001b[0m\n\u001b[1;32m   1356\u001b[0m             \u001b[0moutput\u001b[0m \u001b[0;34m+=\u001b[0m \u001b[0mtorch\u001b[0m\u001b[0;34m.\u001b[0m\u001b[0mjit\u001b[0m\u001b[0;34m.\u001b[0m\u001b[0m_unwrap_optional\u001b[0m\u001b[0;34m(\u001b[0m\u001b[0mbias\u001b[0m\u001b[0;34m)\u001b[0m\u001b[0;34m\u001b[0m\u001b[0;34m\u001b[0m\u001b[0m\n",
      "\u001b[0;31mKeyboardInterrupt\u001b[0m: "
     ]
    }
   ],
   "source": [
    "import argparse\n",
    "from state import State\n",
    "from data_loader import load_data\n",
    "from agent import Agent\n",
    "from attention import Attention\n",
    "import torch.nn as nn\n",
    "import torch\n",
    "import numpy as np\n",
    "from tqdm import tqdm\n",
    "from evaluate import computeF1, evaluate\n",
    "import math\n",
    "import random\n",
    "\n",
    "class ReactiveBaseline():\n",
    "    def __init__(self, l):\n",
    "        self.l = l\n",
    "        self.b = 0.0\n",
    "    def get_baseline_value(self):\n",
    "        return self.b\n",
    "    def update(self, target):\n",
    "        self.b = (1-self.l)*self.b + self.l*target\n",
    "\n",
    "\n",
    "GAMMA = 1\n",
    "WORD_EMB_DIM = 4\n",
    "NODE_EMB_DIM = 16\n",
    "H_DIM = 16\n",
    "T = 3\n",
    "NUM_EPOCH = 20\n",
    "SOFT_REWARD_SCALE = 0.01\n",
    "NUM_ROLL_OUT = 1\n",
    "SHUFFLE = True\n",
    "\n",
    "# device \n",
    "device = torch.device(\"cuda:0\" if torch.cuda.is_available() else \"cpu\")\n",
    "\n",
    "# load dataset\n",
    "rel_embedding, kg, train, test = load_data(\"countries\", WORD_EMB_DIM)\n",
    "\n",
    "# projection from word embedding to node node embedding\n",
    "word2node = nn.Linear(WORD_EMB_DIM, NODE_EMB_DIM, bias=False).to(device)\n",
    "\n",
    "# mutihead self-attention\n",
    "attention = Attention(2, NODE_EMB_DIM, H_DIM, math.sqrt(H_DIM)).to(device)\n",
    "\n",
    "# list contains all params that need to optimize\n",
    "model_param_list = list(word2node.parameters()) + list(attention.parameters())\n",
    "\n",
    "# init agent\n",
    "state = State((train[0][1],train[0][2]), kg, WORD_EMB_DIM, word2node, attention, rel_embedding, T, device) # init here to calculate the input size\n",
    "input_dim = state.get_input_size()\n",
    "num_rel = len(kg.rel_vocab)\n",
    "num_entity = len(kg.en_vocab)\n",
    "baseline = ReactiveBaseline(l=0.02)\n",
    "agent = Agent(input_dim, 10, 0, 2, num_entity, num_rel, GAMMA, 0.0004, model_param_list, baseline, device)\n",
    "\n",
    "# training loop\n",
    "index_list = list(range(len(train)))\n",
    "for epoch in range(NUM_EPOCH):\n",
    "    losses = []\n",
    "    rewards = []\n",
    "    correct = 0\n",
    "    f1 = []\n",
    "    if SHUFFLE:\n",
    "        random.shuffle(index_list)\n",
    "    for n in tqdm(range(len(train))):\n",
    "        # create state from the question\n",
    "        i = index_list[n]\n",
    "        for _ in range(NUM_ROLL_OUT):\n",
    "            state = State((train[i][1],train[i][2]), kg, WORD_EMB_DIM, word2node, attention, rel_embedding, T, device)\n",
    "            answer = kg.en_vocab[train[i][0]]\n",
    "            e0 = state.subgraphs[0][0]\n",
    "            agent.policy.init_path(e0)\n",
    "\n",
    "            # go for T step\n",
    "            for step in range(T):\n",
    "                embedded_state = state.get_embedded_state()\n",
    "                possible_actions = state.generate_all_possible_actions()\n",
    "                action = agent.get_action(embedded_state, possible_actions)\n",
    "                r, e = action\n",
    "                if step < T-1:\n",
    "                    agent.hard_reward(0)\n",
    "                else:\n",
    "                    nodes = state.get_last_nodes()\n",
    "                    max_shortest_path = kg.max_shortest_path(nodes)\n",
    "                    if answer == e:\n",
    "                        agent.hard_reward(1)\n",
    "                    else:\n",
    "                        answer_embedding = state.node_embedding[answer]\n",
    "                        e_embedding = state.node_embedding[e]\n",
    "                        #agent.soft_reward(answer_embedding, e_embedding, SOFT_REWARD_SCALE)\n",
    "                        agent.hard_reward(-max_shortest_path/32)\n",
    "                state.update(action)\n",
    "                #print(\"step: \" + str(step) + \", take action: \" + str(action) + \"result_subgraphs:\" + str(state.subgraphs))\n",
    "\n",
    "            # compute f1\n",
    "            f1.append(computeF1(answer, e)[-1])\n",
    "            # update the policy net and record loss\n",
    "            loss, reward, last_reward = agent.update_policy()\n",
    "            if last_reward == 1:\n",
    "                correct += 1\n",
    "            losses.append(loss)\n",
    "            rewards.append(reward)\n",
    "\n",
    "    acc = correct/(NUM_ROLL_OUT*len(train))\n",
    "    avg_loss = np.mean(losses)\n",
    "    avg_reward = np.mean(rewards)\n",
    "    avg_f1 = np.mean(f1)\n",
    "    print(\"epoch: {}, loss: {}, reward: {}, acc: {}, f1: {}\".format(epoch, avg_loss, avg_reward, acc, avg_f1))\n",
    "\n",
    "    # evaluate on test set\n",
    "    if epoch%5 == 0:\n",
    "        evaluate(test, agent, kg, T, WORD_EMB_DIM, word2node, attention, rel_embedding, device, 15)"
   ]
  },
  {
   "cell_type": "code",
   "execution_count": 20,
   "metadata": {
    "scrolled": false
   },
   "outputs": [
    {
     "data": {
      "image/png": "[encoded data removed]",
      "text/plain": [
       "<Figure size 432x288 with 1 Axes>"
      ]
     },
     "metadata": {
      "needs_background": "light"
     },
     "output_type": "display_data"
    },
    {
     "data": {
      "image/png": "[encoded data removed]",
      "text/plain": [
       "<Figure size 432x288 with 1 Axes>"
      ]
     },
     "metadata": {
      "needs_background": "light"
     },
     "output_type": "display_data"
    },
    {
     "name": "stdout",
     "output_type": "stream",
     "text": [
      "[['europe'], ['finland']]\n",
      "locatedIn romania\n"
     ]
    },
    {
     "data": {
      "image/png": "[encoded data removed]",
      "text/plain": [
       "<Figure size 432x288 with 1 Axes>"
      ]
     },
     "metadata": {
      "needs_background": "light"
     },
     "output_type": "display_data"
    },
    {
     "data": {
      "image/png": "[encoded data removed]",
      "text/plain": [
       "<Figure size 432x288 with 1 Axes>"
      ]
     },
     "metadata": {
      "needs_background": "light"
     },
     "output_type": "display_data"
    },
    {
     "name": "stdout",
     "output_type": "stream",
     "text": [
      "[['europe', 'romania'], ['finland']]\n",
      "locatedIn guernsey\n"
     ]
    },
    {
     "data": {
      "image/png": "[encoded data removed]",
      "text/plain": [
       "<Figure size 432x288 with 1 Axes>"
      ]
     },
     "metadata": {
      "needs_background": "light"
     },
     "output_type": "display_data"
    },
    {
     "data": {
      "image/png": "[encoded data removed]",
      "text/plain": [
       "<Figure size 432x288 with 1 Axes>"
      ]
     },
     "metadata": {
      "needs_background": "light"
     },
     "output_type": "display_data"
    },
    {
     "name": "stdout",
     "output_type": "stream",
     "text": [
      "[['europe', 'romania', 'guernsey'], ['finland']]\n",
      "neighborOf sweden\n"
     ]
    },
    {
     "data": {
      "image/png": "[encoded data removed]",
      "text/plain": [
       "<Figure size 432x288 with 1 Axes>"
      ]
     },
     "metadata": {
      "needs_background": "light"
     },
     "output_type": "display_data"
    },
    {
     "data": {
      "image/png": "[encoded data removed]",
      "text/plain": [
       "<Figure size 432x288 with 1 Axes>"
      ]
     },
     "metadata": {
      "needs_background": "light"
     },
     "output_type": "display_data"
    },
    {
     "name": "stdout",
     "output_type": "stream",
     "text": [
      "answer: sweden, predicted: sweden\n"
     ]
    }
   ],
   "source": [
    "import torch\n",
    "import torch.nn.functional as F\n",
    "import numpy as np\n",
    "import matplotlib\n",
    "import matplotlib.pyplot as plt\n",
    "\n",
    "# select the question you want to visualize\n",
    "question_number = 0\n",
    "\n",
    "def find_ename(e):\n",
    "    for e_name in state.graph.en_vocab:\n",
    "        if state.graph.en_vocab[e_name] == e:\n",
    "            return e_name\n",
    "        \n",
    "def find_rname(r):\n",
    "    for r_name in state.graph.rel_vocab:\n",
    "        if state.graph.rel_vocab[r_name] == r:\n",
    "            return r_name\n",
    "            \n",
    "\n",
    "def print_attention():\n",
    "    with torch.no_grad():\n",
    "        projected_Rt = torch.t(state.word2node(torch.Tensor(state.Rt)))\n",
    "        rs = []\n",
    "        for r in state.rs:\n",
    "            rs.append(find_rname(r))      \n",
    "                        \n",
    "        for i, subgraph in enumerate(state.subgraphs):\n",
    "            gti = []\n",
    "            es = []\n",
    "            for e in subgraph:\n",
    "                gti.append(state.node_embedding[e])\n",
    "                es.append(find_ename(e))\n",
    "            gti = torch.Tensor(gti)\n",
    "            L = torch.mm(gti,projected_Rt)\n",
    "            A_Rt = F.softmax(L, dim=1)\n",
    "            \n",
    "            fig, ax = plt.subplots()\n",
    "            im = ax.imshow(A_Rt,cmap='gray')\n",
    "            ax.set_xticks(np.arange(len(rs)))\n",
    "            ax.set_yticks(np.arange(len(es)))\n",
    "            ax.set_xticklabels(rs)\n",
    "            ax.set_yticklabels(es)\n",
    "            \n",
    "            # Rotate the tick labels and set their alignment.\n",
    "            plt.setp(ax.get_xticklabels(), rotation=45, ha=\"right\", rotation_mode=\"anchor\")\n",
    "\n",
    "            # Loop over data dimensions and create text annotations.\n",
    "            for i in range(len(es)):\n",
    "                for j in range(len(rs)):\n",
    "                    text = ax.text(j, i, round(A_Rt[i, j].item(),3), ha=\"center\", va=\"center\", color=\"r\")\n",
    "\n",
    "            ax.set_title(\"attention\")\n",
    "            fig.tight_layout()\n",
    "            plt.show()\n",
    "\n",
    "def print_Agti():\n",
    "    with torch.no_grad():\n",
    "        projected_Rt = torch.t(state.word2node(torch.Tensor(state.Rt)))\n",
    "        rs = []\n",
    "        for r in state.rs:\n",
    "            rs.append(find_rname(r))      \n",
    "                        \n",
    "        for i, subgraph in enumerate(state.subgraphs):\n",
    "            gti = []\n",
    "            es = []\n",
    "            for e in subgraph:\n",
    "                gti.append(state.node_embedding[e])\n",
    "                es.append(find_ename(e))\n",
    "            gti = torch.Tensor(gti)\n",
    "            L = torch.mm(gti,projected_Rt)\n",
    "            A_gti = F.softmax(torch.t(L), dim=1)\n",
    "            graph = 1 - A_gti\n",
    "            \n",
    "            fig, ax = plt.subplots()\n",
    "            im = ax.imshow(graph,cmap='gray')\n",
    "            ax.set_xticks(np.arange(len(es)))\n",
    "            ax.set_yticks(np.arange(len(rs)))\n",
    "            ax.set_xticklabels(es)\n",
    "            ax.set_yticklabels(rs)\n",
    "            \n",
    "            # Rotate the tick labels and set their alignment.\n",
    "            plt.setp(ax.get_xticklabels(), rotation=45, ha=\"right\", rotation_mode=\"anchor\")\n",
    "\n",
    "            # Loop over data dimensions and create text annotations.\n",
    "            for i in range(len(rs)):\n",
    "                for j in range(len(es)):\n",
    "                    text = ax.text(j, i, round(A_gti[i, j].item(),3), ha=\"center\", va=\"center\", color=\"r\")\n",
    "\n",
    "            ax.set_title(\"attention\")\n",
    "            fig.tight_layout()\n",
    "            plt.show()\n",
    "\n",
    "state = State((train[question_number][1],train[question_number][2]), kg, WORD_EMB_DIM, word2node, attention, rel_embedding, T, device)\n",
    "answer = kg.en_vocab[train[question_number][0]]\n",
    "e0 = state.subgraphs[question_number][0]\n",
    "agent.policy.init_path(e0)\n",
    "\n",
    "# go for T step\n",
    "predicted = None\n",
    "for step in range(T):\n",
    "    print_Agti()\n",
    "    text_subgraphs = []\n",
    "    for subgraph in state.subgraphs:\n",
    "        temp = []\n",
    "        for e in subgraph:\n",
    "            temp.append(find_ename(e))\n",
    "        text_subgraphs.append(temp)\n",
    "    print(text_subgraphs)\n",
    "    embedded_state = state.get_embedded_state()\n",
    "    possible_actions = state.generate_all_possible_actions()\n",
    "    action = agent.get_action(embedded_state, possible_actions)\n",
    "    r, e = action\n",
    "    print(find_rname(r), find_ename(e))\n",
    "    if step < T-1:\n",
    "        agent.hard_reward(0)\n",
    "    else:\n",
    "        predicted = answer\n",
    "        if answer == e:\n",
    "            agent.hard_reward(1)\n",
    "        else:\n",
    "            answer_embedding = state.node_embedding[answer]\n",
    "            e_embedding = state.node_embedding[e]\n",
    "            agent.soft_reward(answer_embedding, e_embedding, SOFT_REWARD_SCALE)\n",
    "    state.update(action)\n",
    "print_Agti()\n",
    "print(\"answer: \" + find_ename(answer) + \", predicted: \" + find_ename(predicted))\n"
   ]
  },
  {
   "cell_type": "code",
   "execution_count": 1,
   "metadata": {
    "scrolled": true
   },
   "outputs": [],
   "source": [
    "import matplotlib\n",
    "import matplotlib.pyplot as plt\n",
    "import numpy as np\n",
    "import pandas as pd"
   ]
  },
  {
   "cell_type": "code",
   "execution_count": 59,
   "metadata": {
    "scrolled": true
   },
   "outputs": [
    {
     "data": {
      "text/plain": [
       "<matplotlib.legend.Legend at 0x7fd4820b0b00>"
      ]
     },
     "execution_count": 59,
     "metadata": {},
     "output_type": "execute_result"
    },
    {
     "data": {
      "image/png": "[encoded data removed]",
      "text/plain": [
       "<Figure size 432x288 with 1 Axes>"
      ]
     },
     "metadata": {
      "needs_background": "light"
     },
     "output_type": "display_data"
    }
   ],
   "source": [
    "fig, ax = plt.subplots()\n",
    "risks = np.array([[0.69825226,0.61438441,0.9566168],[0.85180004,0.81211731,0.93956109],[0.87569859,0.94481003,0.93082989]])\n",
    "risks = risks.T\n",
    "picked_risks = [0.78343411,0.84638742,0.83444141]\n",
    "df=pd.DataFrame({'x': range(1,4), 'subquestion 1': risks[0], 'subquestion 2': risks[1], 'subquestion 3': risks[2] })\n",
    "plt.locator_params(axis='x', nbins=3)\n",
    "ax.set_xticklabels(['', 'Step 1', 'Step 2', 'Step 3'])\n",
    "plt.plot( 'x', 'subquestion 1', data=df, marker='.', markerfacecolor='blue', markersize=13, color='skyblue', linewidth=3, linestyle='dotted')\n",
    "plt.plot( 'x', 'subquestion 2', data=df, marker='.', markerfacecolor='red', markersize=13, color='pink', linewidth=3, linestyle='dashed')\n",
    "plt.plot( 'x', 'subquestion 3', data=df, marker='.', markerfacecolor='darkorange', markersize=13, color='bisque', linewidth=2)\n",
    "plt.ylabel('Avergae Risk')\n",
    "plt.legend()"
   ]
  },
  {
   "cell_type": "code",
   "execution_count": 61,
   "metadata": {},
   "outputs": [
    {
     "data": {
      "text/plain": [
       "<matplotlib.legend.Legend at 0x7fd481ff3748>"
      ]
     },
     "execution_count": 61,
     "metadata": {},
     "output_type": "execute_result"
    },
    {
     "data": {
      "image/png": "[encoded data removed]",
      "text/plain": [
       "<Figure size 432x288 with 1 Axes>"
      ]
     },
     "metadata": {
      "needs_background": "light"
     },
     "output_type": "display_data"
    }
   ],
   "source": [
    "fig, ax = plt.subplots()\n",
    "font = {'size': 13}\n",
    "df=pd.DataFrame({'x': range(1,4), 'picked subquestion': picked_risks})\n",
    "plt.locator_params(axis='x', nbins=3)\n",
    "plt.plot( 'x', 'picked subquestion', data=df, marker='.', markerfacecolor='blue', markersize=13, color='skyblue', linewidth=3, linestyle='dotted')\n",
    "ax.set_xticklabels(['', 'Step 1', 'Step 2', 'Step 3'])\n",
    "plt.ylabel('Average Risk')\n",
    "plt.legend()"
   ]
  },
  {
   "cell_type": "code",
   "execution_count": null,
   "metadata": {},
   "outputs": [],
   "source": [
    "var posList = [\n",
    "    'left', 'right', 'top', 'bottom',\n",
    "    'inside',\n",
    "    'insideTop', 'insideLeft', 'insideRight', 'insideBottom',\n",
    "    'insideTopLeft', 'insideTopRight', 'insideBottomLeft', 'insideBottomRight'\n",
    "];\n",
    "\n",
    "app.configParameters = {\n",
    "    rotate: {\n",
    "        min: -90,\n",
    "        max: 90\n",
    "    },\n",
    "    align: {\n",
    "        options: {\n",
    "            left: 'left',\n",
    "            center: 'center',\n",
    "            right: 'right'\n",
    "        }\n",
    "    },\n",
    "    verticalAlign: {\n",
    "        options: {\n",
    "            top: 'top',\n",
    "            middle: 'middle',\n",
    "            bottom: 'bottom'\n",
    "        }\n",
    "    },\n",
    "    position: {\n",
    "        options: echarts.util.reduce(posList, function (map, pos) {\n",
    "            map[pos] = pos;\n",
    "            return map;\n",
    "        }, {})\n",
    "    },\n",
    "    distance: {\n",
    "        min: 0,\n",
    "        max: 100\n",
    "    }\n",
    "};\n",
    "\n",
    "app.config = {\n",
    "    position: 'top',\n",
    "    distance: 15,\n",
    "    onChange: function () {\n",
    "        var labelOption = {\n",
    "            normal: {\n",
    "                rotate: app.config.rotate,\n",
    "                align: app.config.align,\n",
    "                verticalAlign: app.config.verticalAlign,\n",
    "                position: app.config.position,\n",
    "                distance: app.config.distance\n",
    "            }\n",
    "        };\n",
    "        myChart.setOption({\n",
    "            series: [{\n",
    "                label: labelOption\n",
    "            }, {\n",
    "                label: labelOption\n",
    "            }, {\n",
    "                label: labelOption\n",
    "            }, {\n",
    "                label: labelOption\n",
    "            }]\n",
    "        });\n",
    "    }\n",
    "};\n",
    "\n",
    "\n",
    "var labelOption = {\n",
    "    normal: {\n",
    "        show: true,\n",
    "        position: app.config.position,\n",
    "        distance: app.config.distance,\n",
    "        align: app.config.align,\n",
    "        verticalAlign: app.config.verticalAlign,\n",
    "        rotate: app.config.rotate,\n",
    "        formatter: '{c}',\n",
    "        fontSize: 16,\n",
    "        rich: {\n",
    "            name: {\n",
    "                textBorderColor: '#fff'\n",
    "            }\n",
    "        }\n",
    "    }\n",
    "};\n",
    "\n",
    "option = {\n",
    "    color: ['#003366', '#006699', '#4cabce', '#e5323e'],\n",
    "    tooltip: {\n",
    "        trigger: 'axis',\n",
    "        axisPointer: {\n",
    "            type: 'shadow'\n",
    "        }\n",
    "    },\n",
    "    legend: {\n",
    "        data: ['Our Model', 'Baseline Model'],\n",
    "        itemWidth: 60,\n",
    "        itemHeight: 29,\n",
    "        itemGap: 100,\n",
    "        textStyle: {\n",
    "            fontSize: 24,\n",
    "        },\n",
    "    },\n",
    "    toolbox: {\n",
    "        show: true,\n",
    "        orient: 'vertical',\n",
    "        left: 'right',\n",
    "        top: 'center',\n",
    "        feature: {\n",
    "            mark: {show: true},\n",
    "            dataView: {show: true, readOnly: false},\n",
    "            magicType: {show: true, type: ['line', 'bar', 'stack', 'tiled']},\n",
    "            restore: {show: true},\n",
    "            saveAsImage: {show: true}\n",
    "        }\n",
    "    },\n",
    "    calculable: true,\n",
    "    xAxis: [\n",
    "        {\n",
    "            type: 'category',\n",
    "            axisTick: {show: false},\n",
    "            data: ['Step 1', 'Step 2', 'Step 3'],\n",
    "            axisLabel : {\n",
    "                show:true,\n",
    "                textStyle: {\n",
    "                    fontSize: 25,\n",
    "                }\n",
    "            },\n",
    "        }\n",
    "    ],\n",
    "    yAxis: [\n",
    "        {\n",
    "            type: 'value',\n",
    "            name: 'Avg Error Rate',\n",
    "            nameGap: 50,\n",
    "            nameLocation: 'middle',\n",
    "            nameTextStyle: {\n",
    "                    fontSize: 25\n",
    "            },\n",
    "            axisLabel : {\n",
    "                show:true,\n",
    "                textStyle: {\n",
    "                    fontSize: 20,\n",
    "                }\n",
    "            },\n",
    "        }\n",
    "    ],\n",
    "    series: [\n",
    "        {\n",
    "            name: 'Our Model',\n",
    "            type: 'bar',\n",
    "            barGap: 0,\n",
    "            label: labelOption,\n",
    "            data: [0.006, 0.089, 0.551]\n",
    "        },\n",
    "        {\n",
    "            name: 'Baseline Model',\n",
    "            type: 'bar',\n",
    "            label: labelOption,\n",
    "            data: [0.132, 0.156, 0.354]\n",
    "        }\n",
    "    ]\n",
    "};"
   ]
  }
 ],
 "metadata": {
  "kernelspec": {
   "display_name": "Python 3",
   "language": "python",
   "name": "python3"
  },
  "language_info": {
   "codemirror_mode": {
    "name": "ipython",
    "version": 3
   },
   "file_extension": ".py",
   "mimetype": "text/x-python",
   "name": "python",
   "nbconvert_exporter": "python",
   "pygments_lexer": "ipython3",
   "version": "3.6.8"
  }
 },
 "nbformat": 4,
 "nbformat_minor": 2
}
