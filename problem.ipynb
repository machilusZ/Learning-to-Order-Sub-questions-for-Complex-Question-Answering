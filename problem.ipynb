{
 "cells": [
  {
   "cell_type": "code",
   "execution_count": 1,
   "metadata": {
    "scrolled": true
   },
   "outputs": [
    {
     "name": "stderr",
     "output_type": "stream",
     "text": [
      "100%|██████████| 434/434 [00:53<00:00,  8.04it/s]\n",
      "  0%|          | 0/145 [00:00<?, ?it/s]"
     ]
    },
    {
     "name": "stdout",
     "output_type": "stream",
     "text": [
      "[286, 335, 359]\n",
      "epoch: 0, loss: -0.0852677291988777, reward: 0.4976958525345622, true_positive: 3.0, acc: 0.10368663594470046\n"
     ]
    },
    {
     "name": "stderr",
     "output_type": "stream",
     "text": [
      "100%|██████████| 145/145 [01:26<00:00,  1.61it/s]\n",
      "  0%|          | 1/434 [00:00<01:01,  7.08it/s]"
     ]
    },
    {
     "name": "stdout",
     "output_type": "stream",
     "text": [
      "hit@1: 0.15862068965517243, hit@2: 0.2206896551724138, hit@3: 0.2827586206896552, hit@5: 0.3724137931034483, hit@10: 0.4827586206896552\n",
      "avg out degree for pciked node 1 is 1.910344827586207\n",
      "avg out degree for pciked node 2 is 1.910344827586207\n",
      "avg out degree for pciked node 3 is 3.282758620689655\n"
     ]
    },
    {
     "name": "stderr",
     "output_type": "stream",
     "text": [
      "100%|██████████| 434/434 [01:09<00:00,  4.44it/s]\n",
      "  0%|          | 0/434 [00:00<?, ?it/s]"
     ]
    },
    {
     "name": "stdout",
     "output_type": "stream",
     "text": [
      "[]\n",
      "epoch: 1, loss: -0.20946532748811256, reward: 0.3456221198156682, true_positive: 0.0, acc: 0.1152073732718894\n"
     ]
    },
    {
     "name": "stderr",
     "output_type": "stream",
     "text": [
      "100%|██████████| 434/434 [01:30<00:00,  4.75it/s]\n",
      "  0%|          | 0/434 [00:00<?, ?it/s]"
     ]
    },
    {
     "name": "stdout",
     "output_type": "stream",
     "text": [
      "[163]\n",
      "epoch: 2, loss: -0.18498670615358836, reward: 0.44930875576036866, true_positive: 1.0, acc: 0.12903225806451613\n"
     ]
    },
    {
     "name": "stderr",
     "output_type": "stream",
     "text": [
      "100%|██████████| 434/434 [01:32<00:00,  4.90it/s]\n",
      "  0%|          | 0/434 [00:00<?, ?it/s]"
     ]
    },
    {
     "name": "stdout",
     "output_type": "stream",
     "text": [
      "[]\n",
      "epoch: 3, loss: -0.2420195677588063, reward: 0.38018433179723504, true_positive: 0.0, acc: 0.12672811059907835\n"
     ]
    },
    {
     "name": "stderr",
     "output_type": "stream",
     "text": [
      "100%|██████████| 434/434 [01:35<00:00,  4.72it/s]\n",
      "  0%|          | 0/434 [00:00<?, ?it/s]"
     ]
    },
    {
     "name": "stdout",
     "output_type": "stream",
     "text": [
      "[227, 359]\n",
      "epoch: 4, loss: -0.16480269018680818, reward: 0.532258064516129, true_positive: 2.0, acc: 0.1359447004608295\n"
     ]
    },
    {
     "name": "stderr",
     "output_type": "stream",
     "text": [
      "100%|██████████| 434/434 [01:37<00:00,  4.39it/s]\n",
      "  0%|          | 0/145 [00:00<?, ?it/s]"
     ]
    },
    {
     "name": "stdout",
     "output_type": "stream",
     "text": [
      "[227, 359]\n",
      "epoch: 5, loss: -0.36257030670681306, reward: 0.6359447004608295, true_positive: 2.0, acc: 0.17050691244239632\n"
     ]
    },
    {
     "name": "stderr",
     "output_type": "stream",
     "text": [
      "100%|██████████| 145/145 [01:23<00:00,  1.71it/s]\n",
      "  0%|          | 0/434 [00:00<?, ?it/s]"
     ]
    },
    {
     "name": "stdout",
     "output_type": "stream",
     "text": [
      "hit@1: 0.13793103448275862, hit@2: 0.2482758620689655, hit@3: 0.31724137931034485, hit@5: 0.4413793103448276, hit@10: 0.5448275862068965\n",
      "avg out degree for pciked node 1 is 1.282758620689655\n",
      "avg out degree for pciked node 2 is 2.8689655172413793\n",
      "avg out degree for pciked node 3 is 3.075862068965517\n"
     ]
    },
    {
     "name": "stderr",
     "output_type": "stream",
     "text": [
      "100%|██████████| 434/434 [01:36<00:00,  4.42it/s]\n",
      "  0%|          | 0/434 [00:00<?, ?it/s]"
     ]
    },
    {
     "name": "stdout",
     "output_type": "stream",
     "text": [
      "[317]\n",
      "epoch: 6, loss: -0.18996398714435403, reward: 0.5529953917050692, true_positive: 1.0, acc: 0.16359447004608296\n"
     ]
    },
    {
     "name": "stderr",
     "output_type": "stream",
     "text": [
      "100%|██████████| 434/434 [01:38<00:00,  4.58it/s]\n",
      "  0%|          | 0/434 [00:00<?, ?it/s]"
     ]
    },
    {
     "name": "stdout",
     "output_type": "stream",
     "text": [
      "[339, 359]\n",
      "epoch: 7, loss: -0.32913191528982283, reward: 0.6221198156682027, true_positive: 2.0, acc: 0.16589861751152074\n"
     ]
    },
    {
     "name": "stderr",
     "output_type": "stream",
     "text": [
      "100%|██████████| 434/434 [01:34<00:00,  4.63it/s]\n",
      "  0%|          | 0/434 [00:00<?, ?it/s]"
     ]
    },
    {
     "name": "stdout",
     "output_type": "stream",
     "text": [
      "[227, 317, 339, 359]\n",
      "epoch: 8, loss: -0.5458568562689121, reward: 0.8294930875576036, true_positive: 4.0, acc: 0.1935483870967742\n"
     ]
    },
    {
     "name": "stderr",
     "output_type": "stream",
     "text": [
      "100%|██████████| 434/434 [01:35<00:00,  4.60it/s]\n",
      "  0%|          | 0/434 [00:00<?, ?it/s]"
     ]
    },
    {
     "name": "stdout",
     "output_type": "stream",
     "text": [
      "[227, 229, 317, 339, 359]\n",
      "epoch: 9, loss: -0.47459852812631476, reward: 1.0023041474654377, true_positive: 5.0, acc: 0.2304147465437788\n"
     ]
    },
    {
     "name": "stderr",
     "output_type": "stream",
     "text": [
      "100%|██████████| 434/434 [01:39<00:00,  4.61it/s]\n",
      "  0%|          | 0/145 [00:00<?, ?it/s]"
     ]
    },
    {
     "name": "stdout",
     "output_type": "stream",
     "text": [
      "[317, 339, 359]\n",
      "epoch: 10, loss: -0.5043985052635113, reward: 0.9539170506912442, true_positive: 3.0, acc: 0.2557603686635945\n"
     ]
    },
    {
     "name": "stderr",
     "output_type": "stream",
     "text": [
      "100%|██████████| 145/145 [01:24<00:00,  1.79it/s]\n",
      "  0%|          | 0/434 [00:00<?, ?it/s]"
     ]
    },
    {
     "name": "stdout",
     "output_type": "stream",
     "text": [
      "hit@1: 0.32413793103448274, hit@2: 0.35172413793103446, hit@3: 0.4068965517241379, hit@5: 0.46206896551724136, hit@10: 0.5517241379310345\n",
      "avg out degree for pciked node 1 is 0.9724137931034482\n",
      "avg out degree for pciked node 2 is 1.4896551724137932\n",
      "avg out degree for pciked node 3 is 2.496551724137931\n"
     ]
    },
    {
     "name": "stderr",
     "output_type": "stream",
     "text": [
      "100%|██████████| 434/434 [01:45<00:00,  4.37it/s]\n",
      "  0%|          | 0/434 [00:00<?, ?it/s]"
     ]
    },
    {
     "name": "stdout",
     "output_type": "stream",
     "text": [
      "[183, 227, 317, 339, 359, 422]\n",
      "epoch: 11, loss: -0.4416961957939819, reward: 1.1751152073732718, true_positive: 6.0, acc: 0.2672811059907834\n"
     ]
    },
    {
     "name": "stderr",
     "output_type": "stream",
     "text": [
      "100%|██████████| 434/434 [01:35<00:00,  4.70it/s]\n",
      "  0%|          | 0/434 [00:00<?, ?it/s]"
     ]
    },
    {
     "name": "stdout",
     "output_type": "stream",
     "text": [
      "[227, 317, 339, 359, 422]\n",
      "epoch: 12, loss: -0.5096416863001785, reward: 1.1751152073732718, true_positive: 5.0, acc: 0.2880184331797235\n"
     ]
    },
    {
     "name": "stderr",
     "output_type": "stream",
     "text": [
      "100%|██████████| 434/434 [01:52<00:00,  4.56it/s]\n",
      "  0%|          | 0/434 [00:00<?, ?it/s]"
     ]
    },
    {
     "name": "stdout",
     "output_type": "stream",
     "text": [
      "[183, 227, 317, 339, 359, 422]\n",
      "epoch: 13, loss: -0.4886811124134062, reward: 1.2857142857142858, true_positive: 6.0, acc: 0.30414746543778803\n"
     ]
    },
    {
     "name": "stderr",
     "output_type": "stream",
     "text": [
      "100%|██████████| 434/434 [01:37<00:00,  4.51it/s]\n",
      "  0%|          | 0/434 [00:00<?, ?it/s]"
     ]
    },
    {
     "name": "stdout",
     "output_type": "stream",
     "text": [
      "[227, 286, 317, 339, 359, 422]\n",
      "epoch: 14, loss: -0.4181902539909765, reward: 1.3617511520737327, true_positive: 6.0, acc: 0.3294930875576037\n"
     ]
    },
    {
     "name": "stderr",
     "output_type": "stream",
     "text": [
      "100%|██████████| 434/434 [01:37<00:00,  4.43it/s]\n",
      "  0%|          | 0/145 [00:00<?, ?it/s]"
     ]
    },
    {
     "name": "stdout",
     "output_type": "stream",
     "text": [
      "[183, 227, 286, 317, 339, 359, 422]\n",
      "epoch: 15, loss: -0.5147263354221214, reward: 1.403225806451613, true_positive: 7.0, acc: 0.3225806451612903\n"
     ]
    },
    {
     "name": "stderr",
     "output_type": "stream",
     "text": [
      "100%|██████████| 145/145 [01:24<00:00,  1.69it/s]\n",
      "  0%|          | 0/434 [00:00<?, ?it/s]"
     ]
    },
    {
     "name": "stdout",
     "output_type": "stream",
     "text": [
      "hit@1: 0.3103448275862069, hit@2: 0.3793103448275862, hit@3: 0.4206896551724138, hit@5: 0.47586206896551725, hit@10: 0.5793103448275863\n",
      "avg out degree for pciked node 1 is 1.1724137931034482\n",
      "avg out degree for pciked node 2 is 1.9379310344827587\n",
      "avg out degree for pciked node 3 is 2.9448275862068964\n"
     ]
    },
    {
     "name": "stderr",
     "output_type": "stream",
     "text": [
      "100%|██████████| 434/434 [01:37<00:00,  4.69it/s]\n",
      "  0%|          | 0/434 [00:00<?, ?it/s]"
     ]
    },
    {
     "name": "stdout",
     "output_type": "stream",
     "text": [
      "[227, 259, 286, 317, 339, 359, 422]\n",
      "epoch: 16, loss: -0.4290718450646205, reward: 1.4654377880184333, true_positive: 7.0, acc: 0.3433179723502304\n"
     ]
    },
    {
     "name": "stderr",
     "output_type": "stream",
     "text": [
      "100%|██████████| 434/434 [01:37<00:00,  4.60it/s]\n",
      "  0%|          | 0/434 [00:00<?, ?it/s]"
     ]
    },
    {
     "name": "stdout",
     "output_type": "stream",
     "text": [
      "[227, 259, 286, 317, 339, 359, 422]\n",
      "epoch: 17, loss: -0.42318549104922465, reward: 1.423963133640553, true_positive: 7.0, acc: 0.3294930875576037\n"
     ]
    },
    {
     "name": "stderr",
     "output_type": "stream",
     "text": [
      "100%|██████████| 434/434 [01:36<00:00,  4.30it/s]\n",
      "  0%|          | 0/434 [00:00<?, ?it/s]"
     ]
    },
    {
     "name": "stdout",
     "output_type": "stream",
     "text": [
      "[183, 227, 259, 286, 317, 339, 359, 422]\n",
      "epoch: 18, loss: -0.3682063731458303, reward: 1.5345622119815667, true_positive: 8.0, acc: 0.3456221198156682\n"
     ]
    },
    {
     "name": "stderr",
     "output_type": "stream",
     "text": [
      "100%|██████████| 434/434 [01:37<00:00,  4.53it/s]\n",
      "  0%|          | 0/434 [00:00<?, ?it/s]"
     ]
    },
    {
     "name": "stdout",
     "output_type": "stream",
     "text": [
      "[183, 227, 259, 286, 317, 339, 359, 422]\n",
      "epoch: 19, loss: -0.3208111919154178, reward: 1.5483870967741935, true_positive: 8.0, acc: 0.35023041474654376\n"
     ]
    },
    {
     "name": "stderr",
     "output_type": "stream",
     "text": [
      "100%|██████████| 434/434 [01:37<00:00,  4.33it/s]\n",
      "  0%|          | 0/145 [00:00<?, ?it/s]"
     ]
    },
    {
     "name": "stdout",
     "output_type": "stream",
     "text": [
      "[183, 227, 259, 286, 317, 339, 359, 422]\n",
      "epoch: 20, loss: -0.3022885849425784, reward: 1.5622119815668203, true_positive: 8.0, acc: 0.3548387096774194\n"
     ]
    },
    {
     "name": "stderr",
     "output_type": "stream",
     "text": [
      "100%|██████████| 145/145 [01:24<00:00,  1.71it/s]\n",
      "  0%|          | 0/434 [00:00<?, ?it/s]"
     ]
    },
    {
     "name": "stdout",
     "output_type": "stream",
     "text": [
      "hit@1: 0.3310344827586207, hit@2: 0.4, hit@3: 0.4413793103448276, hit@5: 0.47586206896551725, hit@10: 0.5862068965517241\n",
      "avg out degree for pciked node 1 is 1.296551724137931\n",
      "avg out degree for pciked node 2 is 2.0620689655172413\n",
      "avg out degree for pciked node 3 is 2.682758620689655\n"
     ]
    },
    {
     "name": "stderr",
     "output_type": "stream",
     "text": [
      "100%|██████████| 434/434 [01:40<00:00,  4.61it/s]\n",
      "  0%|          | 0/434 [00:00<?, ?it/s]"
     ]
    },
    {
     "name": "stdout",
     "output_type": "stream",
     "text": [
      "[183, 227, 259, 286, 317, 339, 359, 422]\n",
      "epoch: 21, loss: -0.3045854981897459, reward: 1.5898617511520738, true_positive: 8.0, acc: 0.3640552995391705\n"
     ]
    },
    {
     "name": "stderr",
     "output_type": "stream",
     "text": [
      "100%|██████████| 434/434 [01:43<00:00,  2.41it/s]\n",
      "  0%|          | 0/434 [00:00<?, ?it/s]"
     ]
    },
    {
     "name": "stdout",
     "output_type": "stream",
     "text": [
      "[183, 227, 259, 286, 317, 339, 359, 422]\n",
      "epoch: 22, loss: -0.3132218324742626, reward: 1.6935483870967742, true_positive: 8.0, acc: 0.3986175115207373\n"
     ]
    },
    {
     "name": "stderr",
     "output_type": "stream",
     "text": [
      "100%|██████████| 434/434 [02:34<00:00,  4.10it/s]\n",
      "  0%|          | 0/434 [00:00<?, ?it/s]"
     ]
    },
    {
     "name": "stdout",
     "output_type": "stream",
     "text": [
      "[183, 227, 286, 317, 339, 359, 422]\n",
      "epoch: 23, loss: -0.32552092845359026, reward: 1.6036866359447004, true_positive: 7.0, acc: 0.38940092165898615\n"
     ]
    },
    {
     "name": "stderr",
     "output_type": "stream",
     "text": [
      "100%|██████████| 434/434 [01:38<00:00,  4.56it/s]\n",
      "  0%|          | 0/434 [00:00<?, ?it/s]"
     ]
    },
    {
     "name": "stdout",
     "output_type": "stream",
     "text": [
      "[183, 259, 286, 317, 339, 359, 422]\n",
      "epoch: 24, loss: -0.3203061040534457, reward: 1.5898617511520738, true_positive: 7.0, acc: 0.3847926267281106\n"
     ]
    },
    {
     "name": "stderr",
     "output_type": "stream",
     "text": [
      "100%|██████████| 434/434 [01:36<00:00,  4.53it/s]\n",
      "  0%|          | 0/145 [00:00<?, ?it/s]"
     ]
    },
    {
     "name": "stdout",
     "output_type": "stream",
     "text": [
      "[183, 259, 286, 317, 359, 422]\n",
      "epoch: 25, loss: -0.25812524798422043, reward: 1.5414746543778801, true_positive: 6.0, acc: 0.38940092165898615\n"
     ]
    },
    {
     "name": "stderr",
     "output_type": "stream",
     "text": [
      "100%|██████████| 145/145 [01:43<00:00,  1.20it/s]\n",
      "  0%|          | 0/434 [00:00<?, ?it/s]"
     ]
    },
    {
     "name": "stdout",
     "output_type": "stream",
     "text": [
      "hit@1: 0.3586206896551724, hit@2: 0.4068965517241379, hit@3: 0.4413793103448276, hit@5: 0.4689655172413793, hit@10: 0.5448275862068965\n",
      "avg out degree for pciked node 1 is 1.5793103448275863\n",
      "avg out degree for pciked node 2 is 1.9586206896551723\n",
      "avg out degree for pciked node 3 is 2.303448275862069\n"
     ]
    },
    {
     "name": "stderr",
     "output_type": "stream",
     "text": [
      "100%|██████████| 434/434 [01:42<00:00,  4.26it/s]\n",
      "  0%|          | 0/434 [00:00<?, ?it/s]"
     ]
    },
    {
     "name": "stdout",
     "output_type": "stream",
     "text": [
      "[183, 229, 286, 317, 339, 359, 422]\n",
      "epoch: 26, loss: -0.28816245739269375, reward: 1.6175115207373272, true_positive: 7.0, acc: 0.39400921658986177\n"
     ]
    },
    {
     "name": "stderr",
     "output_type": "stream",
     "text": [
      "100%|██████████| 434/434 [01:38<00:00,  4.49it/s]\n",
      "  0%|          | 0/434 [00:00<?, ?it/s]"
     ]
    },
    {
     "name": "stdout",
     "output_type": "stream",
     "text": [
      "[183, 229, 259, 286, 317, 339, 359, 422]\n",
      "epoch: 27, loss: -0.2534433163760873, reward: 1.7211981566820276, true_positive: 8.0, acc: 0.4078341013824885\n"
     ]
    },
    {
     "name": "stderr",
     "output_type": "stream",
     "text": [
      "100%|██████████| 434/434 [01:45<00:00,  4.18it/s]\n",
      "  0%|          | 0/434 [00:00<?, ?it/s]"
     ]
    },
    {
     "name": "stdout",
     "output_type": "stream",
     "text": [
      "[183, 229, 259, 286, 317, 339, 359, 422]\n",
      "epoch: 28, loss: -0.29306129473369047, reward: 1.6797235023041475, true_positive: 8.0, acc: 0.39400921658986177\n"
     ]
    },
    {
     "name": "stderr",
     "output_type": "stream",
     "text": [
      "100%|██████████| 434/434 [01:40<00:00,  4.20it/s]\n",
      "  0%|          | 0/434 [00:00<?, ?it/s]"
     ]
    },
    {
     "name": "stdout",
     "output_type": "stream",
     "text": [
      "[183, 229, 259, 286, 317, 339, 359, 422]\n",
      "epoch: 29, loss: -0.20720394677403692, reward: 1.707373271889401, true_positive: 8.0, acc: 0.4032258064516129\n"
     ]
    },
    {
     "name": "stderr",
     "output_type": "stream",
     "text": [
      "100%|██████████| 434/434 [01:41<00:00,  4.48it/s]\n",
      "  0%|          | 0/145 [00:00<?, ?it/s]"
     ]
    },
    {
     "name": "stdout",
     "output_type": "stream",
     "text": [
      "[183, 229, 259, 286, 317, 339, 359, 422]\n",
      "epoch: 30, loss: -0.2085853809030076, reward: 1.7488479262672811, true_positive: 8.0, acc: 0.41705069124423966\n"
     ]
    },
    {
     "name": "stderr",
     "output_type": "stream",
     "text": [
      "100%|██████████| 145/145 [01:24<00:00,  1.77it/s]\n",
      "  0%|          | 0/434 [00:00<?, ?it/s]"
     ]
    },
    {
     "name": "stdout",
     "output_type": "stream",
     "text": [
      "hit@1: 0.3724137931034483, hit@2: 0.3931034482758621, hit@3: 0.42758620689655175, hit@5: 0.47586206896551725, hit@10: 0.5793103448275863\n",
      "avg out degree for pciked node 1 is 1.4758620689655173\n",
      "avg out degree for pciked node 2 is 2.510344827586207\n",
      "avg out degree for pciked node 3 is 2.2758620689655173\n"
     ]
    },
    {
     "name": "stderr",
     "output_type": "stream",
     "text": [
      "100%|██████████| 434/434 [01:35<00:00,  4.50it/s]\n",
      "  0%|          | 0/434 [00:00<?, ?it/s]"
     ]
    },
    {
     "name": "stdout",
     "output_type": "stream",
     "text": [
      "[183, 229, 259, 286, 317, 339, 359, 422]\n",
      "epoch: 31, loss: -0.2071762140029082, reward: 1.7004608294930876, true_positive: 8.0, acc: 0.4009216589861751\n"
     ]
    },
    {
     "name": "stderr",
     "output_type": "stream",
     "text": [
      "100%|██████████| 434/434 [01:34<00:00,  4.52it/s]\n",
      "  0%|          | 0/434 [00:00<?, ?it/s]"
     ]
    },
    {
     "name": "stdout",
     "output_type": "stream",
     "text": [
      "[183, 229, 259, 286, 317, 339, 359, 422]\n",
      "epoch: 32, loss: -0.21906505251631778, reward: 1.6797235023041475, true_positive: 8.0, acc: 0.39400921658986177\n"
     ]
    },
    {
     "name": "stderr",
     "output_type": "stream",
     "text": [
      "100%|██████████| 434/434 [01:35<00:00,  4.56it/s]\n",
      "  0%|          | 0/434 [00:00<?, ?it/s]"
     ]
    },
    {
     "name": "stdout",
     "output_type": "stream",
     "text": [
      "[183, 229, 286, 317, 339, 359, 422]\n",
      "epoch: 33, loss: -0.2301907346001673, reward: 1.6451612903225807, true_positive: 7.0, acc: 0.4032258064516129\n"
     ]
    },
    {
     "name": "stderr",
     "output_type": "stream",
     "text": [
      " 70%|██████▉   | 302/434 [01:06<00:29,  4.45it/s]"
     ]
    },
    {
     "ename": "KeyboardInterrupt",
     "evalue": "",
     "output_type": "error",
     "traceback": [
      "\u001b[0;31m---------------------------------------------------------------------------\u001b[0m",
      "\u001b[0;31mKeyboardInterrupt\u001b[0m                         Traceback (most recent call last)",
      "\u001b[0;32m<ipython-input-1-15c66fdeea6c>\u001b[0m in \u001b[0;36m<module>\u001b[0;34m\u001b[0m\n\u001b[1;32m    106\u001b[0m \u001b[0;34m\u001b[0m\u001b[0m\n\u001b[1;32m    107\u001b[0m             \u001b[0;31m# update the policy net and record loss\u001b[0m\u001b[0;34m\u001b[0m\u001b[0;34m\u001b[0m\u001b[0;34m\u001b[0m\u001b[0m\n\u001b[0;32m--> 108\u001b[0;31m             \u001b[0mloss\u001b[0m\u001b[0;34m,\u001b[0m \u001b[0mreward\u001b[0m\u001b[0;34m,\u001b[0m \u001b[0mlast_reward\u001b[0m \u001b[0;34m=\u001b[0m \u001b[0magent\u001b[0m\u001b[0;34m.\u001b[0m\u001b[0mupdate_policy\u001b[0m\u001b[0;34m(\u001b[0m\u001b[0;34m)\u001b[0m\u001b[0;34m\u001b[0m\u001b[0;34m\u001b[0m\u001b[0m\n\u001b[0m\u001b[1;32m    109\u001b[0m             \u001b[0mlosses\u001b[0m\u001b[0;34m.\u001b[0m\u001b[0mappend\u001b[0m\u001b[0;34m(\u001b[0m\u001b[0mloss\u001b[0m\u001b[0;34m)\u001b[0m\u001b[0;34m\u001b[0m\u001b[0;34m\u001b[0m\u001b[0m\n\u001b[1;32m    110\u001b[0m             \u001b[0mrewards\u001b[0m\u001b[0;34m.\u001b[0m\u001b[0mappend\u001b[0m\u001b[0;34m(\u001b[0m\u001b[0mreward\u001b[0m\u001b[0;34m)\u001b[0m\u001b[0;34m\u001b[0m\u001b[0;34m\u001b[0m\u001b[0m\n",
      "\u001b[0;32m~/research/REI/agent.py\u001b[0m in \u001b[0;36mupdate_policy\u001b[0;34m(self)\u001b[0m\n\u001b[1;32m    103\u001b[0m         \u001b[0mself\u001b[0m\u001b[0;34m.\u001b[0m\u001b[0moptimizer\u001b[0m\u001b[0;34m.\u001b[0m\u001b[0mzero_grad\u001b[0m\u001b[0;34m(\u001b[0m\u001b[0;34m)\u001b[0m\u001b[0;34m\u001b[0m\u001b[0;34m\u001b[0m\u001b[0m\n\u001b[1;32m    104\u001b[0m         \u001b[0mloss\u001b[0m\u001b[0;34m.\u001b[0m\u001b[0mbackward\u001b[0m\u001b[0;34m(\u001b[0m\u001b[0;34m)\u001b[0m\u001b[0;34m\u001b[0m\u001b[0;34m\u001b[0m\u001b[0m\n\u001b[0;32m--> 105\u001b[0;31m         \u001b[0mself\u001b[0m\u001b[0;34m.\u001b[0m\u001b[0moptimizer\u001b[0m\u001b[0;34m.\u001b[0m\u001b[0mstep\u001b[0m\u001b[0;34m(\u001b[0m\u001b[0;34m)\u001b[0m\u001b[0;34m\u001b[0m\u001b[0;34m\u001b[0m\u001b[0m\n\u001b[0m\u001b[1;32m    106\u001b[0m \u001b[0;34m\u001b[0m\u001b[0m\n\u001b[1;32m    107\u001b[0m         \u001b[0;31m# reinitialize history\u001b[0m\u001b[0;34m\u001b[0m\u001b[0;34m\u001b[0m\u001b[0;34m\u001b[0m\u001b[0m\n",
      "\u001b[0;32m~/anaconda3/lib/python3.7/site-packages/torch/optim/adam.py\u001b[0m in \u001b[0;36mstep\u001b[0;34m(self, closure)\u001b[0m\n\u001b[1;32m    105\u001b[0m                 \u001b[0mstep_size\u001b[0m \u001b[0;34m=\u001b[0m \u001b[0mgroup\u001b[0m\u001b[0;34m[\u001b[0m\u001b[0;34m'lr'\u001b[0m\u001b[0;34m]\u001b[0m \u001b[0;34m*\u001b[0m \u001b[0mmath\u001b[0m\u001b[0;34m.\u001b[0m\u001b[0msqrt\u001b[0m\u001b[0;34m(\u001b[0m\u001b[0mbias_correction2\u001b[0m\u001b[0;34m)\u001b[0m \u001b[0;34m/\u001b[0m \u001b[0mbias_correction1\u001b[0m\u001b[0;34m\u001b[0m\u001b[0;34m\u001b[0m\u001b[0m\n\u001b[1;32m    106\u001b[0m \u001b[0;34m\u001b[0m\u001b[0m\n\u001b[0;32m--> 107\u001b[0;31m                 \u001b[0mp\u001b[0m\u001b[0;34m.\u001b[0m\u001b[0mdata\u001b[0m\u001b[0;34m.\u001b[0m\u001b[0maddcdiv_\u001b[0m\u001b[0;34m(\u001b[0m\u001b[0;34m-\u001b[0m\u001b[0mstep_size\u001b[0m\u001b[0;34m,\u001b[0m \u001b[0mexp_avg\u001b[0m\u001b[0;34m,\u001b[0m \u001b[0mdenom\u001b[0m\u001b[0;34m)\u001b[0m\u001b[0;34m\u001b[0m\u001b[0;34m\u001b[0m\u001b[0m\n\u001b[0m\u001b[1;32m    108\u001b[0m \u001b[0;34m\u001b[0m\u001b[0m\n\u001b[1;32m    109\u001b[0m         \u001b[0;32mreturn\u001b[0m \u001b[0mloss\u001b[0m\u001b[0;34m\u001b[0m\u001b[0;34m\u001b[0m\u001b[0m\n",
      "\u001b[0;31mKeyboardInterrupt\u001b[0m: "
     ]
    }
   ],
   "source": [
    "import argparse\n",
    "from state import State\n",
    "from data_loader import load_data\n",
    "from agent import Agent\n",
    "from attention import Attention\n",
    "import torch.nn as nn\n",
    "import torch\n",
    "import numpy as np\n",
    "from tqdm import tqdm\n",
    "from evaluate import computeF1, evaluate\n",
    "import math\n",
    "import random\n",
    "\n",
    "class ReactiveBaseline():\n",
    "    def __init__(self, l):\n",
    "        self.l = l\n",
    "        self.b = 0.0\n",
    "    def get_baseline_value(self):\n",
    "        return self.b\n",
    "    def update(self, target):\n",
    "        self.b = (1-self.l)*self.b + self.l*target\n",
    "\n",
    "\n",
    "GAMMA = 1\n",
    "WORD_EMB_DIM = 94\n",
    "NODE_EMB_DIM = 30\n",
    "H_DIM = 64\n",
    "T = 3\n",
    "NUM_EPOCH = 1000\n",
    "SOFT_REWARD_SCALE = 0.1\n",
    "NUM_ROLL_OUT = 1\n",
    "SHUFFLE = False\n",
    "\n",
    "# device \n",
    "device = torch.device(\"cuda:0\" if torch.cuda.is_available() else \"cpu\")\n",
    "\n",
    "# arguemnt parsing\n",
    "# load dataset\n",
    "node_embedding, rel_embedding, kg, train, test = load_data(\"countries\", WORD_EMB_DIM, \"ComplEX\")\n",
    "\n",
    "\n",
    "# projection from word embedding to node node embedding\n",
    "word2node = nn.Linear(WORD_EMB_DIM, NODE_EMB_DIM, bias=False).to(device)\n",
    "\n",
    "# mutihead self-attention\n",
    "attention = Attention(4, NODE_EMB_DIM, H_DIM, math.sqrt(H_DIM)).to(device)\n",
    "\n",
    "# list contains all params that need to optimize\n",
    "model_param_list = list(word2node.parameters()) + list(attention.parameters())\n",
    "\n",
    "# init agent\n",
    "state = State((train[0][1],train[0][2]), kg, node_embedding, WORD_EMB_DIM, word2node, attention, rel_embedding, T, device) # init here to calculate the input size\n",
    "input_dim = state.get_input_size()\n",
    "num_rel = len(kg.rel_vocab)\n",
    "num_entity = len(kg.en_vocab)\n",
    "num_subgraph = len(state.subgraphs)\n",
    "emb_dim = WORD_EMB_DIM + NODE_EMB_DIM\n",
    "baseline = ReactiveBaseline(l = 0.02)\n",
    "agent = Agent(input_dim, 32, emb_dim, 0, 2, num_entity, num_rel,num_subgraph, GAMMA, 0.00005, model_param_list, baseline, device)\n",
    "\n",
    "# training loop\n",
    "index_list = list(range(len(train)))\n",
    "true_positive_question = []\n",
    "for epoch in range(NUM_EPOCH):\n",
    "    true_positive_question = []\n",
    "    losses = []\n",
    "    rewards = []\n",
    "    correct = 0\n",
    "    true_positive = 0\n",
    "    f1 = []\n",
    "    if SHUFFLE:\n",
    "        random.shuffle(index_list)\n",
    "    for n in tqdm(range(len(train))):\n",
    "        # create state from the question\n",
    "        i = index_list[n]\n",
    "        for _ in range(NUM_ROLL_OUT):\n",
    "            state = State((train[i][1],train[i][2]), kg, node_embedding, WORD_EMB_DIM, word2node, attention, rel_embedding, T, device)\n",
    "            answers = kg.encode_answers(train[i][0])\n",
    "            e0 = state.subgraphs[0][0]\n",
    "            agent.policy.init_path(e0, state)\n",
    "\n",
    "            # go for T step\n",
    "            for step in range(T):\n",
    "                action = agent.get_action(state)\n",
    "                g, r, e = action\n",
    "                if step < T-1:\n",
    "                    agent.hard_reward(0)\n",
    "                else:\n",
    "                    nodes = state.get_last_nodes()\n",
    "                    max_shortest_path = kg.max_shortest_path(nodes)\n",
    "                    if e in answers and max_shortest_path == 0:\n",
    "                        correct += 1\n",
    "                        true_positive += 1\n",
    "                        true_positive_question.append(i)\n",
    "                        agent.hard_reward(10)\n",
    "                    elif e in answers:\n",
    "                        agent.hard_reward(1)\n",
    "                        correct += 1\n",
    "                    else:\n",
    "                        agent.hard_reward(0)\n",
    "                        #answer_embedding = state.node_embedding[answer]\n",
    "                        #e_embedding = state.node_embedding[e]\n",
    "                        #agent.soft_reward(answer_embedding, e_embedding, SOFT_REWARD_SCALE, -max_shortest_path)\n",
    "                state.update(action)\n",
    "                #print(\"step: \" + str(step) + \", take action: \" + str(action) + \"result_subgraphs:\" + str(state.subgraphs))\n",
    "\n",
    "            # update the policy net and record loss\n",
    "            loss, reward, last_reward = agent.update_policy()\n",
    "            losses.append(loss)\n",
    "            rewards.append(reward)\n",
    "\n",
    "    acc = correct/(NUM_ROLL_OUT*len(train))\n",
    "    avg_loss = np.mean(losses)\n",
    "    avg_reward = np.mean(rewards)\n",
    "    print(true_positive_question)\n",
    "    print(\"epoch: {}, loss: {}, reward: {}, true_positive: {}, acc: {}\".format(epoch, avg_loss, avg_reward, true_positive/NUM_ROLL_OUT, acc))\n",
    "\n",
    "    # evaluate on test set\n",
    "    if (epoch)%5 == 0:\n",
    "        evaluate(test, agent, kg, T, WORD_EMB_DIM, word2node, attention, rel_embedding, node_embedding, device, 15)"
   ]
  },
  {
   "cell_type": "code",
   "execution_count": 14,
   "metadata": {
    "scrolled": false
   },
   "outputs": [
    {
     "data": {
      "image/png": "[encoded data removed]",
      "text/plain": [
       "<Figure size 432x288 with 1 Axes>"
      ]
     },
     "metadata": {
      "needs_background": "light"
     },
     "output_type": "display_data"
    },
    {
     "data": {
      "image/png": "[encoded data removed]",
      "text/plain": [
       "<Figure size 432x288 with 1 Axes>"
      ]
     },
     "metadata": {
      "needs_background": "light"
     },
     "output_type": "display_data"
    },
    {
     "name": "stdout",
     "output_type": "stream",
     "text": [
      "[['djibouti'], ['africa']]\n",
      "1 locatedIn guinea\n"
     ]
    },
    {
     "data": {
      "image/png": "[encoded data removed]",
      "text/plain": [
       "<Figure size 432x288 with 1 Axes>"
      ]
     },
     "metadata": {
      "needs_background": "light"
     },
     "output_type": "display_data"
    },
    {
     "data": {
      "image/png": "[encoded data removed]",
      "text/plain": [
       "<Figure size 432x288 with 1 Axes>"
      ]
     },
     "metadata": {
      "needs_background": "light"
     },
     "output_type": "display_data"
    },
    {
     "name": "stdout",
     "output_type": "stream",
     "text": [
      "[['djibouti'], ['africa', 'guinea']]\n",
      "1 locatedIn djibouti\n"
     ]
    },
    {
     "data": {
      "image/png": "[encoded data removed]",
      "text/plain": [
       "<Figure size 432x288 with 1 Axes>"
      ]
     },
     "metadata": {
      "needs_background": "light"
     },
     "output_type": "display_data"
    },
    {
     "data": {
      "image/png": "[encoded data removed]",
      "text/plain": [
       "<Figure size 432x288 with 1 Axes>"
      ]
     },
     "metadata": {
      "needs_background": "light"
     },
     "output_type": "display_data"
    },
    {
     "name": "stdout",
     "output_type": "stream",
     "text": [
      "[['djibouti'], ['africa', 'guinea', 'djibouti']]\n",
      "0 neighborOf eritrea\n",
      "[['djibouti', 'eritrea'], ['africa', 'guinea', 'djibouti']]\n"
     ]
    },
    {
     "data": {
      "image/png": "[encoded data removed]",
      "text/plain": [
       "<Figure size 432x288 with 1 Axes>"
      ]
     },
     "metadata": {
      "needs_background": "light"
     },
     "output_type": "display_data"
    },
    {
     "data": {
      "image/png": "[encoded data removed]",
      "text/plain": [
       "<Figure size 432x288 with 1 Axes>"
      ]
     },
     "metadata": {
      "needs_background": "light"
     },
     "output_type": "display_data"
    },
    {
     "name": "stdout",
     "output_type": "stream",
     "text": [
      "['ethiopia', 'somalia', 'eritrea']\n",
      "predicted: djibouti\n"
     ]
    }
   ],
   "source": [
    "import torch\n",
    "import torch.nn.functional as F\n",
    "import numpy as np\n",
    "import matplotlib\n",
    "import matplotlib.pyplot as plt\n",
    "\n",
    "# select the question you want to visualize\n",
    "question_number = 183\n",
    "\n",
    "def find_ename(e):\n",
    "    for e_name in state.graph.en_vocab:\n",
    "        if state.graph.en_vocab[e_name] == e:\n",
    "            return e_name\n",
    "        \n",
    "def find_rname(r):\n",
    "    for r_name in state.graph.rel_vocab:\n",
    "        if state.graph.rel_vocab[r_name] == r:\n",
    "            return r_name\n",
    "            \n",
    "\n",
    "def print_attention():\n",
    "    with torch.no_grad():\n",
    "        projected_Rt = torch.t(state.word2node(torch.Tensor(state.Rt)))\n",
    "        rs = []\n",
    "        for r in state.rs:\n",
    "            rs.append(find_rname(r))      \n",
    "                        \n",
    "        for i, subgraph in enumerate(state.subgraphs):\n",
    "            gti = []\n",
    "            es = []\n",
    "            for e in subgraph:\n",
    "                gti.append(state.node_embedding[e])\n",
    "                es.append(find_ename(e))\n",
    "            gti = torch.Tensor(gti)\n",
    "            L = torch.mm(gti,projected_Rt)\n",
    "            A_Rt = F.softmax(L, dim=1)\n",
    "            \n",
    "            fig, ax = plt.subplots()\n",
    "            im = ax.imshow(A_Rt,cmap='gray')\n",
    "            ax.set_xticks(np.arange(len(rs)))\n",
    "            ax.set_yticks(np.arange(len(es)))\n",
    "            ax.set_xticklabels(rs)\n",
    "            ax.set_yticklabels(es)\n",
    "            \n",
    "            # Rotate the tick labels and set their alignment.\n",
    "            plt.setp(ax.get_xticklabels(), rotation=45, ha=\"right\", rotation_mode=\"anchor\")\n",
    "\n",
    "            # Loop over data dimensions and create text annotations.\n",
    "            for i in range(len(es)):\n",
    "                for j in range(len(rs)):\n",
    "                    text = ax.text(j, i, round(A_Rt[i, j].item(),3), ha=\"center\", va=\"center\", color=\"r\")\n",
    "\n",
    "            ax.set_title(\"attention\")\n",
    "            fig.tight_layout()\n",
    "            plt.show()\n",
    "\n",
    "def print_Agti():\n",
    "    with torch.no_grad():\n",
    "        projected_Rt = torch.t(state.word2node(torch.Tensor(state.Rt)))\n",
    "        rs = []\n",
    "        for r in state.rs:\n",
    "            rs.append(find_rname(r))      \n",
    "                        \n",
    "        for i, subgraph in enumerate(state.subgraphs):\n",
    "            gti = []\n",
    "            es = []\n",
    "            for e in subgraph:\n",
    "                gti.append(state.node_embedding[e])\n",
    "                es.append(find_ename(e))\n",
    "            gti = torch.Tensor(gti)\n",
    "            L = torch.mm(gti,projected_Rt)\n",
    "            A_gti = F.softmax(torch.t(L), dim=1)\n",
    "            graph = 1 - A_gti\n",
    "            \n",
    "            fig, ax = plt.subplots()\n",
    "            im = ax.imshow(graph,cmap='gray')\n",
    "            ax.set_xticks(np.arange(len(es)))\n",
    "            ax.set_yticks(np.arange(len(rs)))\n",
    "            ax.set_xticklabels(es)\n",
    "            ax.set_yticklabels(rs)\n",
    "            \n",
    "            # Rotate the tick labels and set their alignment.\n",
    "            plt.setp(ax.get_xticklabels(), rotation=45, ha=\"right\", rotation_mode=\"anchor\")\n",
    "\n",
    "            # Loop over data dimensions and create text annotations.\n",
    "            for i in range(len(rs)):\n",
    "                for j in range(len(es)):\n",
    "                    text = ax.text(j, i, round(A_gti[i, j].item(),3), ha=\"center\", va=\"center\", color=\"r\")\n",
    "\n",
    "            ax.set_title(\"attention\")\n",
    "            fig.tight_layout()\n",
    "            plt.show()\n",
    "\n",
    "state = State((train[question_number][1],train[question_number][2]), kg, node_embedding, WORD_EMB_DIM, word2node, attention, rel_embedding, T, device)\n",
    "ans_word = []\n",
    "for a in train[question_number][0]:\n",
    "    ans_word.append(a)    \n",
    "e0 = e0 = state.subgraphs[0][0]\n",
    "agent.policy.init_path(e0, state)\n",
    "\n",
    "# go for T step\n",
    "predicted = None\n",
    "for step in range(T):\n",
    "    print_Agti()\n",
    "    text_subgraphs = []\n",
    "    for subgraph in state.subgraphs:\n",
    "        temp = []\n",
    "        for e in subgraph:\n",
    "            temp.append(find_ename(e))\n",
    "        text_subgraphs.append(temp)\n",
    "    print(text_subgraphs)\n",
    "    embedded_state = state.get_embedded_state()\n",
    "    possible_actions = state.generate_all_possible_actions()\n",
    "    action = agent.get_action(state)\n",
    "    g, r, e = action\n",
    "    print(g, find_rname(r), find_ename(e))\n",
    "    \n",
    "    state.update(action)\n",
    "text_subgraphs = []\n",
    "for subgraph in state.subgraphs:\n",
    "    temp = []\n",
    "    for e in subgraph:\n",
    "        temp.append(find_ename(e))\n",
    "    text_subgraphs.append(temp)\n",
    "print(text_subgraphs)\n",
    "print_Agti()\n",
    "print(ans_word)\n",
    "print(\"predicted: \" + find_ename(e))\n"
   ]
  },
  {
   "cell_type": "code",
   "execution_count": 15,
   "metadata": {
    "scrolled": true
   },
   "outputs": [
    {
     "name": "stdout",
     "output_type": "stream",
     "text": [
      "Parameter containing:\n",
      "tensor([[-0.0231,  0.0345, -0.0024,  ...,  0.0043,  0.0059, -0.0285],\n",
      "        [ 0.0075, -0.0653,  0.0121,  ..., -0.0427, -0.0371, -0.0151],\n",
      "        [ 0.0130, -0.0058, -0.0467,  ..., -0.0144, -0.0086, -0.0456],\n",
      "        ...,\n",
      "        [-0.0249,  0.0097,  0.0436,  ..., -0.0175, -0.0471, -0.0223],\n",
      "        [-0.0365,  0.0299, -0.0302,  ...,  0.0414,  0.0230, -0.0454],\n",
      "        [-0.0366,  0.0197, -0.0279,  ..., -0.0101, -0.0358, -0.0059]],\n",
      "       requires_grad=True)\n"
     ]
    }
   ],
   "source": [
    "\n"
   ]
  },
  {
   "cell_type": "code",
   "execution_count": 42,
   "metadata": {
    "scrolled": true
   },
   "outputs": [
    {
     "data": {
      "image/png": "[encoded data removed]",
      "text/plain": [
       "<Figure size 432x288 with 1 Axes>"
      ]
     },
     "metadata": {
      "needs_background": "light"
     },
     "output_type": "display_data"
    }
   ],
   "source": [
    "node_1 = [2.075862068965517, 1.6413793103448275, 0.8620689655172413, 0.5379310344827586, 0.46206896551724136, 0.45517241379310347, 0.5793103448275863, 0.6137931034482759, 0.5310344827586206, 0.47586206896551725]\n",
    "node_2 = [2.310344827586207, 1.6758620689655173, 1.4482758620689655, 2.2620689655172415, 1.910344827586207, 1.4482758620689655, 0.993103448275862, 1.1448275862068966, 1.1310344827586207, 1.1586206896551725]\n",
    "node_3 = [2.524137931034483, 2.282758620689655, 2.689655172413793, 2.524137931034483, 2.717241379310345, 2.4413793103448276, 2.8689655172413793, 2.7655172413793103, 2.3241379310344827, 2.7517241379310344]\n",
    "fig, ax = plt.subplots()\n",
    "x = np.arange(len(node_1))\n",
    "x = x*5\n",
    "x[0] += 1\n",
    "line1 = ax.plot(x, node_1, label=\"first step\")\n",
    "line2 = ax.plot(x, node_2, label=\"second step\")\n",
    "line3 = ax.plot(x, node_3, label=\"third step\")\n",
    "plt.xlabel(\"epoch\")\n",
    "plt.ylabel(\"avg out-coming edge from the picked node\")\n",
    "# Shrink current axis by 20%\n",
    "box = ax.get_position()\n",
    "ax.set_position([box.x0, box.y0, box.width * 1, box.height])\n",
    "\n",
    "# Put a legend to the right of the current axis\n",
    "ax.legend(loc='upper center', bbox_to_anchor=(0.5, 1.15),\n",
    "          fancybox=True, shadow=True, ncol=5)\n",
    "\n",
    "plt.show()"
   ]
  },
  {
   "cell_type": "code",
   "execution_count": null,
   "metadata": {},
   "outputs": [],
   "source": []
  }
 ],
 "metadata": {
  "kernelspec": {
   "display_name": "Python 3",
   "language": "python",
   "name": "python3"
  },
  "language_info": {
   "codemirror_mode": {
    "name": "ipython",
    "version": 3
   },
   "file_extension": ".py",
   "mimetype": "text/x-python",
   "name": "python",
   "nbconvert_exporter": "python",
   "pygments_lexer": "ipython3",
   "version": "3.7.1"
  }
 },
 "nbformat": 4,
 "nbformat_minor": 2
}
